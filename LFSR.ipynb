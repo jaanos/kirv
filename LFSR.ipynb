{
 "cells": [
  {
   "cell_type": "markdown",
   "metadata": {},
   "source": [
    "# LFSR in Sage\n",
    "\n",
    "We may generate a keystream using the `lfsr_sequence` function, which takes as input the key (characteristic polynomial coefficients) and the initial state as vectors over a finite field, and the length of the keystream to be generated."
   ]
  },
  {
   "cell_type": "code",
   "execution_count": null,
   "metadata": {},
   "outputs": [],
   "source": [
    "F = GF(2)\n",
    "one = F.one()\n",
    "key = [x*one for x in [1, 1, 1, 1]]\n",
    "fill = [x*one for x in [0, 0, 0, 1]]"
   ]
  },
  {
   "cell_type": "code",
   "execution_count": null,
   "metadata": {},
   "outputs": [],
   "source": [
    "lfsr_sequence(key, fill, 20)"
   ]
  },
  {
   "cell_type": "markdown",
   "metadata": {},
   "source": [
    "`lfsr_sequence` only works with finite fields. We provide the function `lfsr_ring` which also lets us use ring elements."
   ]
  },
  {
   "cell_type": "code",
   "execution_count": null,
   "metadata": {},
   "outputs": [],
   "source": [
    "def lfsr_ring(key, fill, n = -1):\n",
    "    m = len(key)\n",
    "    assert m == len(fill)\n",
    "    i = 0\n",
    "    for x in fill:\n",
    "        yield x\n",
    "        i += 1\n",
    "        if i == n:\n",
    "            return\n",
    "    while i != n:\n",
    "        x = sum([key[j] * fill[j] for j in range(m)])\n",
    "        fill = fill[1:] + [x]\n",
    "        yield x\n",
    "        i += 1"
   ]
  },
  {
   "cell_type": "code",
   "execution_count": null,
   "metadata": {},
   "outputs": [],
   "source": [
    "R = Integers(10)\n",
    "one = R.one()\n",
    "key = [x*one for x in [1, 1, 1, 1]]\n",
    "fill = [x*one for x in [0, 0, 0, 1]]"
   ]
  },
  {
   "cell_type": "code",
   "execution_count": null,
   "metadata": {},
   "outputs": [],
   "source": [
    "gen = lfsr_ring(key, fill)\n",
    "seq = [next(gen) for _ in range(10000)]\n",
    "print seq[:100]"
   ]
  },
  {
   "cell_type": "markdown",
   "metadata": {},
   "source": [
    "Let us determine the period of a sequence."
   ]
  },
  {
   "cell_type": "code",
   "execution_count": null,
   "metadata": {},
   "outputs": [],
   "source": [
    "def period(s, n):\n",
    "    try:\n",
    "        return next(i for i in range(1, len(s)) if s[i:i+n] == s[:n])\n",
    "    except StopIteration:\n",
    "        return None"
   ]
  },
  {
   "cell_type": "code",
   "execution_count": null,
   "metadata": {},
   "outputs": [],
   "source": [
    "period(seq, 4)"
   ]
  }
 ],
 "metadata": {
  "kernelspec": {
   "display_name": "SageMath 8.3",
   "language": "",
   "name": "sagemath"
  },
  "language_info": {
   "codemirror_mode": {
    "name": "ipython",
    "version": 2
   },
   "file_extension": ".py",
   "mimetype": "text/x-python",
   "name": "python",
   "nbconvert_exporter": "python",
   "pygments_lexer": "ipython2",
   "version": "2.7.15"
  }
 },
 "nbformat": 4,
 "nbformat_minor": 2
}
