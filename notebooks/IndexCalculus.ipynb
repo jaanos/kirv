{
 "cells": [
  {
   "cell_type": "markdown",
   "metadata": {},
   "source": [
    "# Index calculus algorithm\n",
    "\n",
    "We will perform the Index calculus algorithm to compute $\\log_{a} b_i$ ($i = 1, 2$) in $\\mathbf{Z}_{p}^*$, where $a = 5$, $b_1 = 1234567$, $b_2 = 4389733$, and $p = 9330887$ is a prime number."
   ]
  },
  {
   "cell_type": "code",
   "execution_count": null,
   "metadata": {},
   "outputs": [],
   "source": [
    "from algorithms.euclidean import gcd\n",
    "from algorithms.factorization import factorizeByBase\n",
    "\n",
    "p = 9330887\n",
    "a = 5\n",
    "b1 = 1234567\n",
    "b2 = 4389733"
   ]
  },
  {
   "cell_type": "markdown",
   "metadata": {},
   "source": [
    "We will use a basis consisting of $-1$ and all primes less than $50$."
   ]
  },
  {
   "cell_type": "code",
   "execution_count": null,
   "metadata": {},
   "outputs": [],
   "source": [
    "basis = [-1] + prime_range(50)"
   ]
  },
  {
   "cell_type": "markdown",
   "metadata": {},
   "source": [
    "Let us now try to find the logarithms table. We construct a matrix by trying random powers of $a$ and factoring them with the numbers in our basis. We stop when the matrix has full rank."
   ]
  },
  {
   "cell_type": "code",
   "execution_count": null,
   "metadata": {},
   "outputs": [],
   "source": [
    "set_random_seed(0)\n",
    "\n",
    "v = []\n",
    "s = set()\n",
    "r, l = 0, len(basis)\n",
    "M = Matrix(nrows=0, ncols=l)\n",
    "while r < l:\n",
    "    i = randint(1, p-1)\n",
    "    if i in s:\n",
    "        continue\n",
    "    s.add(i)\n",
    "    x = pow(a, i, p)\n",
    "    f = factorizeByBase(Integer(x), basis[1:])\n",
    "    if f:\n",
    "        f.insert(0, 0)\n",
    "    else:\n",
    "        f = factorizeByBase(Integer(-x), basis[1:])\n",
    "        if not f:\n",
    "            continue\n",
    "        f.insert(0, 1)\n",
    "    MM = Matrix(list(M) + [f])\n",
    "    rr = MM.rank()\n",
    "    if rr > r:\n",
    "        M = MM\n",
    "        r = rr\n",
    "        v.append(i)\n",
    "print(M)\n",
    "print(v)"
   ]
  },
  {
   "cell_type": "markdown",
   "metadata": {},
   "source": [
    "We now solve the system of equations we have obtained. The solution represents our table of logarithms and can be used to find logarithms of multiple numbers."
   ]
  },
  {
   "cell_type": "code",
   "execution_count": null,
   "metadata": {},
   "outputs": [],
   "source": [
    "t = M^-1 * Matrix(zip(v)) % (p-1)\n",
    "t"
   ]
  },
  {
   "cell_type": "markdown",
   "metadata": {},
   "source": [
    "Let us verify that the table is correct."
   ]
  },
  {
   "cell_type": "code",
   "execution_count": null,
   "metadata": {},
   "outputs": [],
   "source": [
    "[pow(a, i, p) for i, in t]"
   ]
  },
  {
   "cell_type": "markdown",
   "metadata": {},
   "source": [
    "We can now find a power of $b_i$ that can be factorized with our basis. We will use the following function."
   ]
  },
  {
   "cell_type": "code",
   "execution_count": null,
   "metadata": {},
   "outputs": [],
   "source": [
    "def findPower(b, p, t, basis):\n",
    "    while True:\n",
    "        i = randint(1, p-1)\n",
    "        x = pow(b, i, p)\n",
    "        f = factorizeByBase(Integer(x), basis[1:])\n",
    "        if f:\n",
    "            f.insert(0, 0)\n",
    "        else:\n",
    "            f = factorizeByBase(Integer(-x), basis[1:])\n",
    "            if not f:\n",
    "                continue\n",
    "            f.insert(0, 1)\n",
    "        return (i, f)"
   ]
  },
  {
   "cell_type": "markdown",
   "metadata": {},
   "source": [
    "Let us find such a power of $b_1$ and its factorization."
   ]
  },
  {
   "cell_type": "code",
   "execution_count": null,
   "metadata": {},
   "outputs": [],
   "source": [
    "i1, f1 = findPower(b1, p, t, basis)\n",
    "i1, f1"
   ]
  },
  {
   "cell_type": "markdown",
   "metadata": {},
   "source": [
    "We can now use the logarithm table to obtain a congruence in $\\log_a b_1$. However, there may be multiple solutions, and we need to check which one is out answer. The number of solutions is given by the greatest common divisor of $p-1$ and the obtained exponent."
   ]
  },
  {
   "cell_type": "code",
   "execution_count": null,
   "metadata": {},
   "outputs": [],
   "source": [
    "g1 = gcd(i1, p-1)\n",
    "g1"
   ]
  },
  {
   "cell_type": "markdown",
   "metadata": {},
   "source": [
    "We can thus obtain a solution modulo $p-1$ divided by this GCD."
   ]
  },
  {
   "cell_type": "code",
   "execution_count": null,
   "metadata": {},
   "outputs": [],
   "source": [
    "m1 = ((p-1)/g1)\n",
    "(x1,), = Matrix([f1])*t / i1 % m1\n",
    "x1"
   ]
  },
  {
   "cell_type": "markdown",
   "metadata": {},
   "source": [
    "Let us now put this into a function which will also verify the potential solutions."
   ]
  },
  {
   "cell_type": "code",
   "execution_count": null,
   "metadata": {},
   "outputs": [],
   "source": [
    "def checkSolutions(a, b, p, t, i, f):\n",
    "    g = gcd(i, p-1)\n",
    "    m = (p-1)/g\n",
    "    (x,), = Matrix([f])*t / i % m\n",
    "    for j in range(g):\n",
    "        y = pow(a, x, p)\n",
    "        print(\"%d^%d mod %d = %d\" % (a, x, p, y))\n",
    "        if y == b:\n",
    "            return x\n",
    "        x += m\n",
    "\n",
    "checkSolutions(a, b1, p, t, i1, f1)"
   ]
  },
  {
   "cell_type": "markdown",
   "metadata": {},
   "source": [
    "We have thus computed $\\log_a b_1$. Let us now compute $\\log_a b_2$."
   ]
  },
  {
   "cell_type": "code",
   "execution_count": null,
   "metadata": {},
   "outputs": [],
   "source": [
    "i2, f2 = findPower(b2, p, t, basis)\n",
    "i2, f2"
   ]
  },
  {
   "cell_type": "code",
   "execution_count": null,
   "metadata": {},
   "outputs": [],
   "source": [
    "checkSolutions(a, b2, p, t, i2, f2)"
   ]
  }
 ],
 "metadata": {
  "kernelspec": {
   "display_name": "SageMath 8.3",
   "language": "",
   "name": "sagemath"
  },
  "language_info": {
   "codemirror_mode": {
    "name": "ipython",
    "version": 2
   },
   "file_extension": ".py",
   "mimetype": "text/x-python",
   "name": "python",
   "nbconvert_exporter": "python",
   "pygments_lexer": "ipython2",
   "version": "2.7.15"
  }
 },
 "nbformat": 4,
 "nbformat_minor": 2
}
