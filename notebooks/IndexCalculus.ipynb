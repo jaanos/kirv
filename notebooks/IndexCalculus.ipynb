{
 "cells": [
  {
   "cell_type": "markdown",
   "metadata": {},
   "source": [
    "# Index calculus algorithm\n",
    "\n",
    "We will perform the Index calculus algorithm to compute $\\log_{a} b_i$ ($i = 1, 2$) in $\\mathbf{Z}_{p}^*$, where $a = 5$, $b_1 = 4389733$, $b_2 = 1234567$, and $p = 9330887$ is a prime number."
   ]
  },
  {
   "cell_type": "code",
   "execution_count": 1,
   "metadata": {},
   "outputs": [],
   "source": [
    "from algorithms.euclidean import gcd\n",
    "from algorithms.factorization import factorizeByBase\n",
    "\n",
    "p = 9330887\n",
    "a = 5\n",
    "b1 = 4389733\n",
    "b2 = 1234567"
   ]
  },
  {
   "cell_type": "markdown",
   "metadata": {},
   "source": [
    "We will use a base consisting of $-1$ and all primes less than $50$."
   ]
  },
  {
   "cell_type": "code",
   "execution_count": 2,
   "metadata": {},
   "outputs": [],
   "source": [
    "base = [-1] + prime_range(50)"
   ]
  },
  {
   "cell_type": "markdown",
   "metadata": {},
   "source": [
    "Let us now try to find the logarithms table. We construct a matrix by trying random powers of $a$ and factoring them with the numbers in our base. We stop when the matrix has full rank."
   ]
  },
  {
   "cell_type": "code",
   "execution_count": 3,
   "metadata": {},
   "outputs": [
    {
     "name": "stdout",
     "output_type": "stream",
     "text": [
      "[1 0 1 0 1 0 1 1 0 0 0 0 1 0 1 0]\n",
      "[1 1 4 0 2 0 0 0 1 1 0 0 0 0 0 0]\n",
      "[1 1 5 2 1 0 0 1 0 0 0 0 0 0 0 0]\n",
      "[1 6 0 0 0 1 1 0 0 0 0 0 0 1 0 0]\n",
      "[0 3 1 0 0 1 0 0 0 0 1 1 0 0 0 0]\n",
      "[0 2 0 2 0 0 1 0 0 0 1 0 0 0 0 1]\n",
      "[1 9 3 2 1 0 0 0 0 0 0 0 0 0 0 0]\n",
      "[0 1 1 2 0 0 0 0 0 0 1 1 0 1 0 0]\n",
      "[0 3 4 1 0 0 1 0 1 0 0 0 0 0 0 0]\n",
      "[0 1 0 0 3 0 0 0 1 0 0 0 0 0 0 1]\n",
      "[0 3 3 0 0 0 0 0 2 0 0 0 0 0 1 0]\n",
      "[1 2 0 0 0 2 0 0 0 0 0 1 0 1 0 0]\n",
      "[1 6 3 0 1 0 0 2 0 0 0 0 0 0 0 0]\n",
      "[1 0 0 1 2 0 0 0 0 1 2 0 0 0 0 0]\n",
      "[1 6 0 0 0 1 1 0 0 0 1 1 0 0 0 0]\n",
      "[0 3 1 1 1 0 1 0 1 0 0 0 1 0 0 0]\n",
      "[4746917, 4747026, 6889022, 3908343, 1066760, 6494367, 1934471, 1567977, 7864629, 1638582, 2526531, 6829987, 6466117, 3166568, 4256144, 5639062]\n"
     ]
    }
   ],
   "source": [
    "set_random_seed(0)\n",
    "\n",
    "v = []\n",
    "s = set()\n",
    "r, l = 0, len(base)\n",
    "M = Matrix(nrows=0, ncols=l)\n",
    "while r < l:\n",
    "    i = randint(1, p-1)\n",
    "    if i in s:\n",
    "        continue\n",
    "    s.add(i)\n",
    "    x = pow(a, i, p)\n",
    "    f = factorizeByBase(Integer(x), base, p)\n",
    "    if not f:\n",
    "        continue\n",
    "    MM = Matrix(list(M) + [f])\n",
    "    rr = MM.rank()\n",
    "    if rr > r:\n",
    "        M = MM\n",
    "        r = rr\n",
    "        v.append(i)\n",
    "print(M)\n",
    "print(v)"
   ]
  },
  {
   "cell_type": "markdown",
   "metadata": {},
   "source": [
    "We now solve the system of equations we have obtained. The solution represents our table of logarithms and can be used to find logarithms of multiple numbers."
   ]
  },
  {
   "cell_type": "code",
   "execution_count": 4,
   "metadata": {},
   "outputs": [
    {
     "data": {
      "text/plain": [
       "[4665443]\n",
       "[6670912]\n",
       "[2030334]\n",
       "[      1]\n",
       "[5786904]\n",
       "[1078197]\n",
       "[8534197]\n",
       "[7606749]\n",
       "[8519903]\n",
       "[2519168]\n",
       "[6200403]\n",
       "[9068634]\n",
       "[7409417]\n",
       "[5590350]\n",
       "[6037417]\n",
       "[6410599]"
      ]
     },
     "execution_count": 4,
     "metadata": {},
     "output_type": "execute_result"
    }
   ],
   "source": [
    "t = M^-1 * Matrix(zip(v)) % (p-1)\n",
    "t"
   ]
  },
  {
   "cell_type": "markdown",
   "metadata": {},
   "source": [
    "Let us verify that the table is correct."
   ]
  },
  {
   "cell_type": "code",
   "execution_count": 5,
   "metadata": {},
   "outputs": [
    {
     "data": {
      "text/plain": [
       "[9330886, 2, 3, 5, 7, 11, 13, 17, 19, 23, 29, 31, 37, 41, 43, 47]"
      ]
     },
     "execution_count": 5,
     "metadata": {},
     "output_type": "execute_result"
    }
   ],
   "source": [
    "[pow(a, i, p) for i, in t]"
   ]
  },
  {
   "cell_type": "markdown",
   "metadata": {},
   "source": [
    "We can now find a power of $b_i$ that can be factorized with our base. We will use the following function."
   ]
  },
  {
   "cell_type": "code",
   "execution_count": 6,
   "metadata": {},
   "outputs": [],
   "source": [
    "def findPower(b, p, t, base):\n",
    "    while True:\n",
    "        i = randint(1, p-1)\n",
    "        x = pow(b, i, p)\n",
    "        f = factorizeByBase(Integer(x), base, p)\n",
    "        if not f:\n",
    "            continue\n",
    "        return (i, f)"
   ]
  },
  {
   "cell_type": "markdown",
   "metadata": {},
   "source": [
    "Let us find such a power of $b_1$ and its factorization."
   ]
  },
  {
   "cell_type": "code",
   "execution_count": 7,
   "metadata": {},
   "outputs": [
    {
     "data": {
      "text/plain": [
       "(7675068, [0, 1, 3, 0, 0, 0, 0, 0, 2, 0, 0, 0, 0, 1, 0, 0])"
      ]
     },
     "execution_count": 7,
     "metadata": {},
     "output_type": "execute_result"
    }
   ],
   "source": [
    "i1, f1 = findPower(b1, p, t, base)\n",
    "i1, f1"
   ]
  },
  {
   "cell_type": "markdown",
   "metadata": {},
   "source": [
    "We can now use the logarithm table to obtain a congruence in $\\log_a b_1$. However, there may be multiple solutions, and we need to check which one is our answer. The number of solutions is given by the greatest common divisor of $p-1$ and the obtained exponent."
   ]
  },
  {
   "cell_type": "code",
   "execution_count": 8,
   "metadata": {},
   "outputs": [
    {
     "data": {
      "text/plain": [
       "2"
      ]
     },
     "execution_count": 8,
     "metadata": {},
     "output_type": "execute_result"
    }
   ],
   "source": [
    "g1 = gcd(i1, p-1)\n",
    "g1"
   ]
  },
  {
   "cell_type": "markdown",
   "metadata": {},
   "source": [
    "We can thus obtain a solution modulo $p-1$ divided by this GCD."
   ]
  },
  {
   "cell_type": "code",
   "execution_count": 9,
   "metadata": {},
   "outputs": [
    {
     "data": {
      "text/plain": [
       "1087862"
      ]
     },
     "execution_count": 9,
     "metadata": {},
     "output_type": "execute_result"
    }
   ],
   "source": [
    "m1 = ((p-1)/g1)\n",
    "(x1,), = Matrix([f1])*t / i1 % m1\n",
    "x1"
   ]
  },
  {
   "cell_type": "markdown",
   "metadata": {},
   "source": [
    "Let us now put this into a function which will also verify the potential solutions."
   ]
  },
  {
   "cell_type": "code",
   "execution_count": 10,
   "metadata": {},
   "outputs": [
    {
     "name": "stdout",
     "output_type": "stream",
     "text": [
      "5^1087862 mod 9330887 = 4941154\n",
      "5^5753305 mod 9330887 = 4389733\n"
     ]
    },
    {
     "data": {
      "text/plain": [
       "5753305"
      ]
     },
     "execution_count": 10,
     "metadata": {},
     "output_type": "execute_result"
    }
   ],
   "source": [
    "def checkSolutions(a, b, p, t, i, f):\n",
    "    g = gcd(i, p-1)\n",
    "    m = (p-1)/g\n",
    "    (x,), = Matrix([f])*t / i % m\n",
    "    for j in range(g):\n",
    "        y = pow(a, x, p)\n",
    "        print(\"%d^%d mod %d = %d\" % (a, x, p, y))\n",
    "        if y == b:\n",
    "            return x\n",
    "        x += m\n",
    "\n",
    "checkSolutions(a, b1, p, t, i1, f1)"
   ]
  },
  {
   "cell_type": "markdown",
   "metadata": {},
   "source": [
    "We have thus computed $\\log_a b_1$. Let us now compute $\\log_a b_2$."
   ]
  },
  {
   "cell_type": "code",
   "execution_count": 11,
   "metadata": {},
   "outputs": [
    {
     "data": {
      "text/plain": [
       "(1643897, [1, 7, 2, 0, 0, 2, 1, 0, 0, 0, 0, 0, 0, 0, 0, 0])"
      ]
     },
     "execution_count": 11,
     "metadata": {},
     "output_type": "execute_result"
    }
   ],
   "source": [
    "i2, f2 = findPower(b2, p, t, base)\n",
    "i2, f2"
   ]
  },
  {
   "cell_type": "code",
   "execution_count": 12,
   "metadata": {},
   "outputs": [
    {
     "name": "stdout",
     "output_type": "stream",
     "text": [
      "5^7273774 mod 9330887 = 1234567\n"
     ]
    },
    {
     "data": {
      "text/plain": [
       "7273774"
      ]
     },
     "execution_count": 12,
     "metadata": {},
     "output_type": "execute_result"
    }
   ],
   "source": [
    "checkSolutions(a, b2, p, t, i2, f2)"
   ]
  },
  {
   "cell_type": "markdown",
   "metadata": {},
   "source": [
    "We will now use the function `logarithmTable` to compute tables of logarithms, which will then be used to compute some more discrete logarithms with the function `indexCalculus`. We will measure the evaluation times."
   ]
  },
  {
   "cell_type": "code",
   "execution_count": 13,
   "metadata": {},
   "outputs": [],
   "source": [
    "from algorithms.discreteLogarithm import logarithmTable, indexCalculus\n",
    "\n",
    "aa = 47\n",
    "bb = 191"
   ]
  },
  {
   "cell_type": "code",
   "execution_count": 14,
   "metadata": {},
   "outputs": [
    {
     "name": "stdout",
     "output_type": "stream",
     "text": [
      "found factorization 47^80518442549 = 5^3 * 11^1 * 13^2 * 17^1 * 29^1 * 37^1 (mod 100000000003)\n",
      "found factorization 47^84861465387 = -1^1 * 2^1 * 3^1 * 5^7 * 7^1 * 43^1 (mod 100000000003)\n",
      "found factorization 47^90432226991 = 2^1 * 3^1 * 5^4 * 7^4 * 13^1 * 17^1 * 19^1 (mod 100000000003)\n",
      "found factorization 47^76313756410 = -1^1 * 2^6 * 3^1 * 5^2 * 7^1 * 19^2 * 23^1 * 43^1 (mod 100000000003)\n",
      "found factorization 47^73886231161 = 2^4 * 3^1 * 5^2 * 7^1 * 11^1 * 41^1 (mod 100000000003)\n",
      "found factorization 47^20455038019 = -1^1 * 2^3 * 7^3 * 11^1 * 19^1 * 23^1 * 43^1 (mod 100000000003)\n",
      "found factorization 47^13620877439 = -1^1 * 2^1 * 3^2 * 7^1 * 13^1 * 17^1 * 23^1 * 31^2 * 37^1 (mod 100000000003)\n",
      "found factorization 47^80102434804 = -1^1 * 2^4 * 3^1 * 7^2 * 11^1 * 23^1 * 37^2 * 41^1 (mod 100000000003)\n",
      "found factorization 47^27198933959 = -1^1 * 2^1 * 5^1 * 13^1 * 23^2 * 31^2 * 41^1 (mod 100000000003)\n",
      "found factorization 47^82442132303 = 2^8 * 3^1 * 7^1 * 29^2 * 41^1 (mod 100000000003)\n",
      "found factorization 47^45012200945 = -1^1 * 2^4 * 29^1 * 43^1 * 47^4 (mod 100000000003)\n",
      "found factorization 47^92462599920 = -1^1 * 2^13 * 3^5 * 5^2 * 13^1 * 31^1 (mod 100000000003)\n",
      "found factorization 47^11421879726 = 2^11 * 5^1 * 7^1 * 11^1 * 37^1 * 41^1 * 47^1 (mod 100000000003)\n",
      "found factorization 47^60074134233 = 2^2 * 3^2 * 5^5 * 7^5 * 13^1 (mod 100000000003)\n",
      "rank not increased, discarding\n",
      "found factorization 47^54577008911 = 2^9 * 3^9 * 29^1 * 41^1 (mod 100000000003)\n",
      "found factorization 47^40397551998 = -1^1 * 2^2 * 3^2 * 5^1 * 19^2 * 43^1 (mod 100000000003)\n",
      "found factorization 47^79707734979 = -1^1 * 2^1 * 5^2 * 11^1 * 13^1 * 37^1 * 41^1 * 47^2 (mod 100000000003)\n",
      "rank not increased, discarding\n",
      "found factorization 47^48495642522 = -1^1 * 2^4 * 23^2 * 29^2 * 41^1 (mod 100000000003)\n",
      "rank not increased, discarding\n",
      "found factorization 47^20599669464 = -1^1 * 3^1 * 5^1 * 11^1 * 37^2 * 41^1 (mod 100000000003)\n",
      "CPU times: user 31.2 s, sys: 12 ms, total: 31.2 s\n",
      "Wall time: 33 s\n",
      "[50000000001, 88948660783, 74403602789, 76906212201, 2995382539, 11520765452, 33861633403, 95303711677, 78308239391, 74623569337, 9047223934, 26437938024, 66204838085, 75359412859, 30170333882, 1]\n",
      "found factorization 191^36976914647 = 2^18 * 3^1 * 7^1 * 41^1 * 47^1 (mod 100000000003)\n",
      "checking 1 solutions for 47^x = 191, x = 6935101882 (mod 100000000002)\n",
      "47^6935101882 mod 100000000003 = 191\n",
      "CPU times: user 3.65 s, sys: 4 ms, total: 3.65 s\n",
      "Wall time: 3.77 s\n"
     ]
    },
    {
     "data": {
      "text/plain": [
       "6935101882"
      ]
     },
     "execution_count": 14,
     "metadata": {},
     "output_type": "execute_result"
    }
   ],
   "source": [
    "pp = 100000000003\n",
    "table = %time logarithmTable(aa, pp, base, trace = True)\n",
    "print(table)\n",
    "%time indexCalculus(aa, bb, pp, base, table, trace = True)"
   ]
  },
  {
   "cell_type": "code",
   "execution_count": 15,
   "metadata": {},
   "outputs": [
    {
     "name": "stdout",
     "output_type": "stream",
     "text": [
      "found factorization 47^953676781484914302 = 2^1 * 29^1 * 1627^1 * 2357^1 * 2879^1 * 3571^1 * 3943^1 (mod 10000000000000000051)\n",
      "found factorization 47^6287360725992047568 = -1^1 * 2^3 * 5^1 * 11^2 * 19^1 * 827^1 * 1879^1 * 3793^1 * 4651^1 (mod 10000000000000000051)\n",
      "found factorization 47^1962320992248740799 = 3^1 * 5^4 * 7^1 * 11^1 * 31^1 * 211^1 * 607^1 * 797^1 * 3643^1 (mod 10000000000000000051)\n",
      "found factorization 47^1819364495386436834 = -1^1 * 2^1 * 3^1 * 5^3 * 23^1 * 167^1 * 173^1 * 1487^1 * 1531^1 * 3733^1 (mod 10000000000000000051)\n",
      "found factorization 47^8263301872670395073 = -1^1 * 2^1 * 3^2 * 11^1 * 31^1 * 431^1 * 727^1 * 751^1 * 887^1 * 2677^1 (mod 10000000000000000051)\n",
      "found factorization 47^3113345274525834062 = 2^6 * 5^1 * 31^1 * 127^1 * 541^1 * 641^1 * 2593^1 * 3623^1 (mod 10000000000000000051)\n",
      "found factorization 47^8533724016359759095 = -1^1 * 2^1 * 7^1 * 23^1 * 349^1 * 389^1 * 1471^1 * 3037^1 * 3769^1 (mod 10000000000000000051)\n",
      "found factorization 47^4202613297101974312 = -1^1 * 2^1 * 263^2 * 271^2 * 547^2 * 1511^1 (mod 10000000000000000051)\n",
      "found factorization 47^2897254005055682695 = -1^1 * 11^1 * 79^1 * 107^1 * 109^1 * 137^1 * 263^1 * 1907^1 * 2267^1 (mod 10000000000000000051)\n",
      "found factorization 47^618722590406729296 = -1^1 * 2^1 * 3^1 * 17^1 * 31^1 * 421^1 * 443^1 * 449^1 * 1091^1 * 3709^1 (mod 10000000000000000051)\n",
      "found factorization 47^4018760431453267626 = -1^1 * 3^2 * 5^1 * 7^1 * 113^1 * 523^2 * 601^1 * 1223^2 (mod 10000000000000000051)\n",
      "found factorization 47^1023706188895855015 = -1^1 * 2^3 * 5^1 * 29^2 * 151^1 * 311^1 * 919^1 * 1459^1 * 3863^1 (mod 10000000000000000051)\n",
      "found factorization 47^9247299320160792367 = 2^1 * 3^3 * 5^1 * 17^1 * 29^1 * 127^1 * 211^1 * 443^1 * 1867^1 * 2131^1 (mod 10000000000000000051)\n",
      "found factorization 47^3373367044035561126 = -1^1 * 3^2 * 5^1 * 61^1 * 167^1 * 317^1 * 2179^1 * 3467^1 * 4513^1 (mod 10000000000000000051)\n",
      "found factorization 47^9696961320916797705 = 37^1 * 269^1 * 331^1 * 397^1 * 1117^1 * 1531^1 * 3257^1 (mod 10000000000000000051)\n",
      "found factorization 47^5185041696460533197 = 3^1 * 967^1 * 3581^1 * 3803^1 * 4253^1 * 4421^1 (mod 10000000000000000051)\n",
      "found factorization 47^1909622596348623120 = -1^1 * 2^2 * 3^2 * 11^1 * 181^1 * 859^1 * 1901^1 * 2393^1 * 4363^1 (mod 10000000000000000051)\n",
      "found factorization 47^8282768608758366409 = 2^1 * 13^1 * 709^1 * 3041^1 * 3163^1 * 3413^1 * 3821^1 (mod 10000000000000000051)\n",
      "found factorization 47^9484870161902984624 = 2^2 * 5^1 * 31^1 * 59^1 * 61^2 * 193^1 * 211^1 * 479^1 * 1997^1 (mod 10000000000000000051)\n",
      "found factorization 47^1058879532144668575 = 2^1 * 7^1 * 19^1 * 61^1 * 191^1 * 317^1 * 599^1 * 2543^1 * 3697^1 (mod 10000000000000000051)\n",
      "found factorization 47^6789666433023116101 = 2^3 * 7^1 * 37^1 * 353^1 * 683^1 * 751^1 * 1949^1 * 3461^1 (mod 10000000000000000051)\n",
      "found factorization 47^1571208953434368480 = 2^1 * 5^2 * 7^1 * 13^1 * 37^1 * 193^1 * 719^1 * 3299^1 * 3931^1 (mod 10000000000000000051)\n",
      "found factorization 47^7133281040530984435 = 2^1 * 3^1 * 5^1 * 17^1 * 79^2 * 89^1 * 103^1 * 149^1 * 359^1 * 2243^1 (mod 10000000000000000051)\n",
      "found factorization 47^1346134439693225222 = -1^1 * 2^9 * 5^1 * 29^1 * 97^1 * 599^1 * 659^1 * 1229^1 * 2141^1 (mod 10000000000000000051)\n",
      "found factorization 47^2728598615874294277 = 7^1 * 71^1 * 653^1 * 683^1 * 881^1 * 2129^1 * 4421^1 (mod 10000000000000000051)\n",
      "found factorization 47^2563167255129332325 = 2^7 * 3^2 * 5^1 * 11^1 * 31^1 * 43^1 * 131^1 * 571^1 * 653^1 * 2053^1 (mod 10000000000000000051)\n",
      "found factorization 47^3808822488235589679 = 41^1 * 101^1 * 619^1 * 659^1 * 761^1 * 883^1 * 3823^1 (mod 10000000000000000051)\n",
      "found factorization 47^4183948904042648574 = -1^1 * 2^1 * 3^1 * 107^1 * 251^1 * 811^1 * 1087^1 * 2341^1 * 2837^1 (mod 10000000000000000051)\n",
      "found factorization 47^4898257115960992959 = 73^1 * 101^1 * 191^1 * 241^1 * 2689^2 * 3931^1 (mod 10000000000000000051)\n",
      "found factorization 47^2398842662904145601 = -1^1 * 2^4 * 3^1 * 5^2 * 31^2 * 101^1 * 433^1 * 3559^1 * 4373^1 (mod 10000000000000000051)\n",
      "found factorization 47^7654947078033863729 = -1^1 * 2^1 * 3^1 * 5^1 * 37^1 * 337^1 * 587^1 * 1399^1 * 1451^1 * 2239^1 (mod 10000000000000000051)\n",
      "found factorization 47^7586387855754976573 = 7^3 * 13^1 * 41^1 * 131^1 * 181^1 * 293^1 * 2053^1 * 3697^1 (mod 10000000000000000051)\n",
      "found factorization 47^5237688615940189376 = -1^1 * 2^1 * 7^1 * 61^1 * 167^1 * 193^1 * 293^1 * 317^1 * 373^1 * 1579^1 (mod 10000000000000000051)\n",
      "found factorization 47^4604601951788034208 = 2^1 * 19^1 * 29^1 * 211^1 * 983^1 * 1831^1 * 2909^1 * 4349^1 (mod 10000000000000000051)\n",
      "found factorization 47^6932145910629001096 = 2^4 * 5^1 * 7^1 * 11^1 * 37^1 * 61^1 * 347^1 * 751^1 * 823^1 * 2909^1 (mod 10000000000000000051)\n",
      "found factorization 47^9907572251302916098 = 2^1 * 5^1 * 47^1 * 59^1 * 127^1 * 223^1 * 691^1 * 1559^1 * 2137^1 (mod 10000000000000000051)\n",
      "found factorization 47^4644670013340672859 = -1^1 * 3^3 * 13^1 * 1439^1 * 1499^1 * 1511^1 * 2539^1 * 3191^1 (mod 10000000000000000051)\n",
      "found factorization 47^314780105334894261 = 2^7 * 3^3 * 11^1 * 53^1 * 59^1 * 71^1 * 263^1 * 547^1 * 3889^1 (mod 10000000000000000051)\n",
      "found factorization 47^2159364417926969962 = 2^1 * 5^1 * 7^1 * 13^1 * 17^1 * 23^1 * 71^1 * 113^1 * 487^1 * 1973^1 * 2287^1 (mod 10000000000000000051)\n",
      "found factorization 47^542815210206245257 = 2^3 * 5^1 * 17^2 * 31^1 * 83^1 * 239^1 * 317^1 * 491^1 * 4253^1 (mod 10000000000000000051)\n",
      "found factorization 47^1654781914055330201 = 2^5 * 29^1 * 43^1 * 67^1 * 131^1 * 347^1 * 1571^1 * 2549^1 (mod 10000000000000000051)\n",
      "found factorization 47^2241692574327544212 = -1^1 * 2^4 * 5^2 * 17^2 * 43^1 * 73^1 * 1489^1 * 3023^1 * 4447^1 (mod 10000000000000000051)\n",
      "found factorization 47^6781304297390427471 = -1^1 * 3^1 * 5^4 * 7^1 * 17^1 * 23^1 * 89^1 * 1009^1 * 1283^1 * 4973^1 (mod 10000000000000000051)\n",
      "found factorization 47^9780834277089735578 = -1^1 * 11^1 * 101^1 * 277^1 * 311^1 * 677^1 * 1951^1 * 3593^1 (mod 10000000000000000051)\n",
      "found factorization 47^8753728346784836454 = -1^1 * 5^1 * 7^3 * 19^1 * 79^1 * 83^1 * 827^1 * 1381^1 * 2693^1 (mod 10000000000000000051)\n",
      "found factorization 47^5708470204246488188 = -1^1 * 2^3 * 3^2 * 5^2 * 7^1 * 53^1 * 251^1 * 1009^1 * 2503^1 * 2927^1 (mod 10000000000000000051)\n",
      "found factorization 47^5759844119713888486 = 2^2 * 7^2 * 113^1 * 139^1 * 271^1 * 1597^1 * 1699^1 * 3709^1 (mod 10000000000000000051)\n",
      "found factorization 47^7280488008243131531 = 3^1 * 7^3 * 17^1 * 101^1 * 487^1 * 773^1 * 997^1 * 1889^1 (mod 10000000000000000051)\n",
      "found factorization 47^8923506772337537003 = 2^1 * 5^1 * 7^1 * 13^1 * 17^1 * 61^1 * 251^1 * 389^1 * 2503^1 * 4481^1 (mod 10000000000000000051)\n",
      "found factorization 47^8438984974023679296 = 2^3 * 3^2 * 7^1 * 19^1 * 61^1 * 257^1 * 1657^1 * 3359^1 * 4093^1 (mod 10000000000000000051)\n",
      "found factorization 47^9814753468378566972 = 2^1 * 3^2 * 5^1 * 29^2 * 37^1 * 661^1 * 991^1 * 1609^1 * 3137^1 (mod 10000000000000000051)\n",
      "found factorization 47^6008782266341618560 = -1^1 * 241^1 * 631^1 * 2287^1 * 2447^1 * 3109^1 * 3257^1 (mod 10000000000000000051)\n",
      "found factorization 47^1481213845242243529 = -1^1 * 5^1 * 7^2 * 41^1 * 103^1 * 839^1 * 881^1 * 1031^1 * 1523^1 (mod 10000000000000000051)\n",
      "found factorization 47^7218567866588251610 = -1^1 * 2^4 * 3^1 * 89^1 * 197^1 * 641^1 * 1187^1 * 1453^1 * 1871^1 (mod 10000000000000000051)\n",
      "found factorization 47^1064626297264048279 = 3^2 * 5^1 * 7^1 * 61^1 * 293^1 * 389^1 * 773^1 * 1109^1 * 4139^1 (mod 10000000000000000051)\n",
      "found factorization 47^9470488943404727577 = 3^1 * 7^1 * 19^1 * 23^2 * 41^1 * 109^1 * 241^1 * 2797^1 * 4327^1 (mod 10000000000000000051)\n",
      "found factorization 47^7689538108967138931 = 2^2 * 7^2 * 19^2 * 23^1 * 547^1 * 1039^1 * 3049^1 * 3229^1 (mod 10000000000000000051)\n",
      "found factorization 47^5952351465352135995 = -1^1 * 7^1 * 13^1 * 29^1 * 37^1 * 73^2 * 89^1 * 677^1 * 2963^1 (mod 10000000000000000051)\n",
      "found factorization 47^4333843444756922829 = -1^1 * 2^1 * 13^1 * 103^1 * 167^1 * 677^1 * 937^1 * 983^1 * 2707^1 (mod 10000000000000000051)\n",
      "found factorization 47^1469186010207615423 = 3^1 * 7^1 * 47^2 * 107^1 * 631^1 * 1373^1 * 2731^1 (mod 10000000000000000051)\n",
      "found factorization 47^807532885734239452 = -1^1 * 2^1 * 17^1 * 59^1 * 131^1 * 193^1 * 199^1 * 421^1 * 971^1 * 1753^1 (mod 10000000000000000051)\n"
     ]
    },
    {
     "name": "stdout",
     "output_type": "stream",
     "text": [
      "found factorization 47^9559994506038927750 = 3^2 * 11^1 * 131^1 * 307^1 * 331^1 * 991^1 * 2281^1 * 2539^1 (mod 10000000000000000051)\n",
      "found factorization 47^6994716761782100659 = -1^1 * 7^4 * 11^1 * 13^1 * 17^1 * 41^1 * 107^1 * 293^1 * 439^1 * 2293^1 (mod 10000000000000000051)\n",
      "found factorization 47^6149657592562131115 = -1^1 * 29^1 * 151^1 * 523^1 * 727^1 * 1013^1 * 1129^1 * 4451^1 (mod 10000000000000000051)\n",
      "found factorization 47^6568112653502021422 = 3^4 * 107^1 * 113^1 * 593^1 * 1699^1 * 2011^1 * 3203^1 (mod 10000000000000000051)\n",
      "found factorization 47^9431569325583918761 = 3^2 * 29^1 * 67^1 * 127^1 * 421^1 * 1439^1 * 2143^1 * 2659^1 (mod 10000000000000000051)\n",
      "found factorization 47^6925674726689004428 = -1^1 * 2^2 * 3^1 * 11^1 * 137^1 * 227^1 * 311^1 * 383^1 * 751^1 * 2309^1 (mod 10000000000000000051)\n",
      "found factorization 47^3340518389169749596 = -1^1 * 3^1 * 11^1 * 97^1 * 439^2 * 719^1 * 907^1 * 1399^1 (mod 10000000000000000051)\n",
      "found factorization 47^7430889324928258848 = 2^2 * 3^4 * 11^1 * 13^2 * 503^1 * 601^1 * 3529^1 * 3607^1 (mod 10000000000000000051)\n",
      "found factorization 47^7240775688934793485 = -1^1 * 5^1 * 11^1 * 109^1 * 229^1 * 383^1 * 1193^1 * 2549^1 * 4951^1 (mod 10000000000000000051)\n",
      "found factorization 47^7683545180372073879 = -1^1 * 2^3 * 113^1 * 821^1 * 1063^1 * 1423^1 * 4583^1 (mod 10000000000000000051)\n",
      "found factorization 47^7318045819018401474 = 3^1 * 13^1 * 29^2 * 59^1 * 73^1 * 419^1 * 431^1 * 433^1 * 859^1 (mod 10000000000000000051)\n",
      "found factorization 47^1648937193305197546 = 2^1 * 3^2 * 5^1 * 139^1 * 239^1 * 307^1 * 467^1 * 3049^1 * 3919^1 (mod 10000000000000000051)\n",
      "found factorization 47^437233098898705093 = -1^1 * 3^2 * 5^1 * 11^2 * 223^1 * 683^1 * 827^1 * 1163^1 * 3613^1 (mod 10000000000000000051)\n",
      "found factorization 47^5269172668597071519 = -1^1 * 2^1 * 3^1 * 41^2 * 97^1 * 587^1 * 971^1 * 1049^1 * 4787^1 (mod 10000000000000000051)\n",
      "found factorization 47^2080150376918241487 = -1^1 * 2^3 * 43^1 * 137^1 * 281^1 * 349^1 * 677^1 * 1327^1 * 1553^1 (mod 10000000000000000051)\n",
      "found factorization 47^1131131549577596596 = 2^1 * 3^3 * 5^1 * 11^2 * 61^1 * 137^1 * 569^1 * 887^1 * 4231^1 (mod 10000000000000000051)\n",
      "found factorization 47^400348573233475073 = -1^1 * 2^1 * 7^1 * 109^1 * 337^1 * 499^1 * 571^1 * 2273^1 * 3613^1 (mod 10000000000000000051)\n",
      "found factorization 47^8298294439469523256 = -1^1 * 11^1 * 13^1 * 67^1 * 107^1 * 743^1 * 1531^1 * 1607^1 * 4733^1 (mod 10000000000000000051)\n",
      "found factorization 47^226056860167527757 = 5^3 * 23^1 * 31^1 * 97^1 * 167^1 * 541^1 * 2357^1 * 2411^1 (mod 10000000000000000051)\n",
      "found factorization 47^4602467385355139257 = 2^1 * 3^2 * 41^1 * 113^1 * 2053^1 * 3301^1 * 3623^1 * 4597^1 (mod 10000000000000000051)\n",
      "found factorization 47^7739054582266729979 = -1^1 * 3^6 * 11^1 * 17^1 * 83^1 * 179^1 * 659^1 * 701^1 * 1279^1 (mod 10000000000000000051)\n",
      "found factorization 47^5609866857618652368 = 2^2 * 3^4 * 13^1 * 89^1 * 97^1 * 2503^1 * 2617^1 * 4289^1 (mod 10000000000000000051)\n",
      "found factorization 47^2812086004614589883 = -1^1 * 2^7 * 3^2 * 31^1 * 41^1 * 67^3 * 307^1 * 3719^1 (mod 10000000000000000051)\n",
      "found factorization 47^4471692008982982779 = 2^1 * 3^1 * 523^1 * 1489^1 * 1567^1 * 1777^1 * 4271^1 (mod 10000000000000000051)\n",
      "found factorization 47^5982815152869300492 = 2^3 * 5^1 * 7^1 * 19^1 * 23^1 * 43^1 * 227^1 * 1201^1 * 1931^1 * 2753^1 (mod 10000000000000000051)\n",
      "found factorization 47^6366056403080816998 = 2^3 * 17^1 * 23^1 * 43^1 * 367^1 * 509^1 * 1531^1 * 3581^1 (mod 10000000000000000051)\n",
      "found factorization 47^8516351818156727622 = 3^3 * 7^3 * 11^1 * 139^2 * 383^1 * 397^1 * 4793^1 (mod 10000000000000000051)\n",
      "found factorization 47^1761974498340850547 = 2^2 * 5^2 * 67^1 * 79^1 * 733^1 * 1747^1 * 2099^1 * 4787^1 (mod 10000000000000000051)\n",
      "found factorization 47^3244352321428497865 = 3^1 * 5^1 * 7^1 * 11^1 * 31^1 * 157^1 * 359^1 * 853^1 * 887^1 * 4861^1 (mod 10000000000000000051)\n",
      "found factorization 47^8872939929766100563 = 2^2 * 3^2 * 5^1 * 19^1 * 29^1 * 43^1 * 109^1 * 409^1 * 1327^1 * 4621^1 (mod 10000000000000000051)\n",
      "found factorization 47^3675011582384455576 = 7^1 * 53^1 * 607^1 * 839^1 * 1811^1 * 1973^1 * 4973^1 (mod 10000000000000000051)\n",
      "found factorization 47^2462301077530450430 = 2^2 * 29^1 * 73^1 * 197^1 * 419^1 * 499^1 * 1373^1 * 1907^1 (mod 10000000000000000051)\n",
      "found factorization 47^7274319086831270826 = 3^2 * 5^1 * 17^1 * 509^1 * 839^1 * 1847^1 * 2663^1 * 3253^1 (mod 10000000000000000051)\n",
      "found factorization 47^7973238538358994139 = -1^1 * 2^1 * 7^1 * 293^1 * 313^1 * 641^1 * 953^1 * 1459^1 * 4093^1 (mod 10000000000000000051)\n",
      "found factorization 47^3880798230465353474 = -1^1 * 2^2 * 3^2 * 5^1 * 7^1 * 11^1 * 19^1 * 97^2 * 157^1 * 1609^1 * 2069^1 (mod 10000000000000000051)\n",
      "found factorization 47^8195362487813304787 = 2^4 * 7^1 * 127^1 * 251^1 * 313^1 * 461^1 * 977^1 * 3623^1 (mod 10000000000000000051)\n",
      "found factorization 47^4830089469734066868 = 2^1 * 5^1 * 79^1 * 139^1 * 157^1 * 503^1 * 769^1 * 773^1 * 947^1 (mod 10000000000000000051)\n",
      "found factorization 47^1641924057326261667 = 2^2 * 3^1 * 7^1 * 11^2 * 13^1 * 37^1 * 59^1 * 103^1 * 113^1 * 199^1 * 4721^1 (mod 10000000000000000051)\n",
      "found factorization 47^4646219987556486338 = -1^1 * 2^2 * 3^1 * 7^1 * 89^1 * 109^1 * 1283^1 * 1361^1 * 1613^1 * 3011^1 (mod 10000000000000000051)\n",
      "found factorization 47^2296310969822727293 = -1^1 * 5^1 * 7^1 * 19^1 * 29^1 * 67^1 * 181^1 * 211^1 * 2971^1 * 3797^1 (mod 10000000000000000051)\n",
      "found factorization 47^5353358133026100070 = 3^6 * 5^2 * 19^1 * 73^1 * 139^1 * 439^1 * 811^1 * 4327^1 (mod 10000000000000000051)\n",
      "found factorization 47^2958842775091818959 = 2^2 * 19^1 * 1231^2 * 2053^1 * 3673^1 * 3697^1 (mod 10000000000000000051)\n",
      "found factorization 47^5944410073799318258 = -1^1 * 11^1 * 43^1 * 223^1 * 929^1 * 2113^1 * 4133^1 * 4463^1 (mod 10000000000000000051)\n",
      "found factorization 47^8951083640227097648 = 2^3 * 3^2 * 11^2 * 83^1 * 641^1 * 1531^1 * 2671^1 * 4783^1 (mod 10000000000000000051)\n",
      "found factorization 47^880631688299940719 = 2^3 * 41^1 * 47^1 * 127^1 * 401^1 * 1381^1 * 2591^1 * 2857^1 (mod 10000000000000000051)\n",
      "found factorization 47^2045022214195976937 = 2^3 * 3^1 * 19^1 * 29^1 * 197^1 * 359^1 * 449^1 * 1259^1 * 2963^1 (mod 10000000000000000051)\n",
      "found factorization 47^3205859098262924412 = 2^3 * 113^1 * 257^2 * 397^1 * 547^1 * 673^1 * 1069^1 (mod 10000000000000000051)\n",
      "found factorization 47^5392840055859170295 = -1^1 * 3^1 * 7^4 * 197^1 * 373^1 * 461^1 * 1531^1 * 2411^1 (mod 10000000000000000051)\n",
      "found factorization 47^205590497110286449 = 2^1 * 5^1 * 11^1 * 29^2 * 127^1 * 149^1 * 197^1 * 313^1 * 1129^1 (mod 10000000000000000051)\n",
      "found factorization 47^3041022857739438970 = -1^1 * 2^4 * 7^1 * 19^2 * 67^1 * 113^1 * 151^1 * 163^1 * 977^1 * 1093^1 (mod 10000000000000000051)\n"
     ]
    },
    {
     "name": "stderr",
     "output_type": "stream",
     "text": [
      "ERROR:root:Internal Python error in the inspect module.\n",
      "Below is the traceback from this internal error.\n",
      "\n"
     ]
    },
    {
     "name": "stdout",
     "output_type": "stream",
     "text": [
      "Traceback (most recent call last):\n",
      "  File \"/home/janos/sage/local/lib/python2.7/site-packages/IPython/core/ultratb.py\", line 1132, in get_records\n",
      "    return _fixed_getinnerframes(etb, number_of_lines_of_context, tb_offset)\n",
      "  File \"/home/janos/sage/local/lib/python2.7/site-packages/IPython/core/ultratb.py\", line 313, in wrapped\n",
      "    return f(*args, **kwargs)\n",
      "  File \"/home/janos/sage/local/lib/python2.7/site-packages/IPython/core/ultratb.py\", line 358, in _fixed_getinnerframes\n",
      "    records = fix_frame_records_filenames(inspect.getinnerframes(etb, context))\n",
      "  File \"/home/janos/sage/local/lib/python2.7/inspect.py\", line 1053, in getinnerframes\n",
      "    framelist.append((tb.tb_frame,) + getframeinfo(tb, context))\n",
      "  File \"/home/janos/sage/local/lib/python2.7/inspect.py\", line 1013, in getframeinfo\n",
      "    filename = getsourcefile(frame) or getfile(frame)\n",
      "  File \"/home/janos/sage/local/lib/python2.7/inspect.py\", line 453, in getsourcefile\n",
      "    if hasattr(getmodule(object, filename), '__loader__'):\n",
      "  File \"/home/janos/sage/local/lib/python2.7/inspect.py\", line 496, in getmodule\n",
      "    f = getabsfile(module)\n",
      "  File \"/home/janos/sage/local/lib/python2.7/inspect.py\", line 465, in getabsfile\n",
      "    _filename = getsourcefile(object) or getfile(object)\n",
      "  File \"/home/janos/sage/local/lib/python2.7/inspect.py\", line 450, in getsourcefile\n",
      "    if os.path.exists(filename):\n",
      "  File \"/home/janos/sage/local/lib/python2.7/genericpath.py\", line 26, in exists\n",
      "    os.stat(path)\n",
      "  File \"src/cysignals/signals.pyx\", line 320, in cysignals.signals.python_check_interrupt\n",
      "KeyboardInterrupt\n"
     ]
    },
    {
     "ename": "IndexError",
     "evalue": "string index out of range",
     "output_type": "error",
     "traceback": [
      "\u001b[0;31m---------------------------------------------------------------------------\u001b[0m",
      "\u001b[0;31mIndexError\u001b[0m                                Traceback (most recent call last)",
      "\u001b[0;32m/home/janos/sage/local/lib/python2.7/site-packages/IPython/core/interactiveshell.pyc\u001b[0m in \u001b[0;36mrun_code\u001b[0;34m(self, code_obj, result)\u001b[0m\n\u001b[1;32m   2893\u001b[0m             \u001b[0;32mif\u001b[0m \u001b[0mresult\u001b[0m \u001b[0;32mis\u001b[0m \u001b[0;32mnot\u001b[0m \u001b[0mNone\u001b[0m\u001b[0;34m:\u001b[0m\u001b[0;34m\u001b[0m\u001b[0m\n\u001b[1;32m   2894\u001b[0m                 \u001b[0mresult\u001b[0m\u001b[0;34m.\u001b[0m\u001b[0merror_in_exec\u001b[0m \u001b[0;34m=\u001b[0m \u001b[0msys\u001b[0m\u001b[0;34m.\u001b[0m\u001b[0mexc_info\u001b[0m\u001b[0;34m(\u001b[0m\u001b[0;34m)\u001b[0m\u001b[0;34m[\u001b[0m\u001b[0;36m1\u001b[0m\u001b[0;34m]\u001b[0m\u001b[0;34m\u001b[0m\u001b[0m\n\u001b[0;32m-> 2895\u001b[0;31m             \u001b[0mself\u001b[0m\u001b[0;34m.\u001b[0m\u001b[0mshowtraceback\u001b[0m\u001b[0;34m(\u001b[0m\u001b[0;34m)\u001b[0m\u001b[0;34m\u001b[0m\u001b[0m\n\u001b[0m\u001b[1;32m   2896\u001b[0m         \u001b[0;32melse\u001b[0m\u001b[0;34m:\u001b[0m\u001b[0;34m\u001b[0m\u001b[0m\n\u001b[1;32m   2897\u001b[0m             \u001b[0moutflag\u001b[0m \u001b[0;34m=\u001b[0m \u001b[0;36m0\u001b[0m\u001b[0;34m\u001b[0m\u001b[0m\n",
      "\u001b[0;32m/home/janos/sage/local/lib/python2.7/site-packages/IPython/core/interactiveshell.pyc\u001b[0m in \u001b[0;36mshowtraceback\u001b[0;34m(self, exc_tuple, filename, tb_offset, exception_only)\u001b[0m\n\u001b[1;32m   1824\u001b[0m                     \u001b[0;32mexcept\u001b[0m \u001b[0mException\u001b[0m\u001b[0;34m:\u001b[0m\u001b[0;34m\u001b[0m\u001b[0m\n\u001b[1;32m   1825\u001b[0m                         stb = self.InteractiveTB.structured_traceback(etype,\n\u001b[0;32m-> 1826\u001b[0;31m                                             value, tb, tb_offset=tb_offset)\n\u001b[0m\u001b[1;32m   1827\u001b[0m \u001b[0;34m\u001b[0m\u001b[0m\n\u001b[1;32m   1828\u001b[0m                     \u001b[0mself\u001b[0m\u001b[0;34m.\u001b[0m\u001b[0m_showtraceback\u001b[0m\u001b[0;34m(\u001b[0m\u001b[0metype\u001b[0m\u001b[0;34m,\u001b[0m \u001b[0mvalue\u001b[0m\u001b[0;34m,\u001b[0m \u001b[0mstb\u001b[0m\u001b[0;34m)\u001b[0m\u001b[0;34m\u001b[0m\u001b[0m\n",
      "\u001b[0;32m/home/janos/sage/local/lib/python2.7/site-packages/IPython/core/ultratb.pyc\u001b[0m in \u001b[0;36mstructured_traceback\u001b[0;34m(self, etype, value, tb, tb_offset, number_of_lines_of_context)\u001b[0m\n\u001b[1;32m   1409\u001b[0m         \u001b[0mself\u001b[0m\u001b[0;34m.\u001b[0m\u001b[0mtb\u001b[0m \u001b[0;34m=\u001b[0m \u001b[0mtb\u001b[0m\u001b[0;34m\u001b[0m\u001b[0m\n\u001b[1;32m   1410\u001b[0m         return FormattedTB.structured_traceback(\n\u001b[0;32m-> 1411\u001b[0;31m             self, etype, value, tb, tb_offset, number_of_lines_of_context)\n\u001b[0m\u001b[1;32m   1412\u001b[0m \u001b[0;34m\u001b[0m\u001b[0m\n\u001b[1;32m   1413\u001b[0m \u001b[0;34m\u001b[0m\u001b[0m\n",
      "\u001b[0;32m/home/janos/sage/local/lib/python2.7/site-packages/IPython/core/ultratb.pyc\u001b[0m in \u001b[0;36mstructured_traceback\u001b[0;34m(self, etype, value, tb, tb_offset, number_of_lines_of_context)\u001b[0m\n\u001b[1;32m   1317\u001b[0m             \u001b[0;31m# Verbose modes need a full traceback\u001b[0m\u001b[0;34m\u001b[0m\u001b[0;34m\u001b[0m\u001b[0m\n\u001b[1;32m   1318\u001b[0m             return VerboseTB.structured_traceback(\n\u001b[0;32m-> 1319\u001b[0;31m                 \u001b[0mself\u001b[0m\u001b[0;34m,\u001b[0m \u001b[0metype\u001b[0m\u001b[0;34m,\u001b[0m \u001b[0mvalue\u001b[0m\u001b[0;34m,\u001b[0m \u001b[0mtb\u001b[0m\u001b[0;34m,\u001b[0m \u001b[0mtb_offset\u001b[0m\u001b[0;34m,\u001b[0m \u001b[0mnumber_of_lines_of_context\u001b[0m\u001b[0;34m\u001b[0m\u001b[0m\n\u001b[0m\u001b[1;32m   1320\u001b[0m             )\n\u001b[1;32m   1321\u001b[0m         \u001b[0;32melse\u001b[0m\u001b[0;34m:\u001b[0m\u001b[0;34m\u001b[0m\u001b[0m\n",
      "\u001b[0;32m/home/janos/sage/local/lib/python2.7/site-packages/IPython/core/ultratb.pyc\u001b[0m in \u001b[0;36mstructured_traceback\u001b[0;34m(self, etype, evalue, etb, tb_offset, number_of_lines_of_context)\u001b[0m\n\u001b[1;32m   1202\u001b[0m                 \u001b[0mstructured_traceback_parts\u001b[0m \u001b[0;34m+=\u001b[0m \u001b[0mformatted_exception\u001b[0m\u001b[0;34m\u001b[0m\u001b[0m\n\u001b[1;32m   1203\u001b[0m         \u001b[0;32melse\u001b[0m\u001b[0;34m:\u001b[0m\u001b[0;34m\u001b[0m\u001b[0m\n\u001b[0;32m-> 1204\u001b[0;31m             \u001b[0mstructured_traceback_parts\u001b[0m \u001b[0;34m+=\u001b[0m \u001b[0mformatted_exception\u001b[0m\u001b[0;34m[\u001b[0m\u001b[0;36m0\u001b[0m\u001b[0;34m]\u001b[0m\u001b[0;34m\u001b[0m\u001b[0m\n\u001b[0m\u001b[1;32m   1205\u001b[0m \u001b[0;34m\u001b[0m\u001b[0m\n\u001b[1;32m   1206\u001b[0m         \u001b[0;32mreturn\u001b[0m \u001b[0mstructured_traceback_parts\u001b[0m\u001b[0;34m\u001b[0m\u001b[0m\n",
      "\u001b[0;31mIndexError\u001b[0m: string index out of range"
     ]
    }
   ],
   "source": [
    "pp = 10000000000000000051\n",
    "base = [-1] + prime_range(5000)\n",
    "table = %time logarithmTable(aa, pp, base, trace = True)\n",
    "%time indexCalculus(aa, bb, pp, base, table, trace = True)"
   ]
  }
 ],
 "metadata": {
  "kernelspec": {
   "display_name": "SageMath 8.9.beta2",
   "language": "sage",
   "name": "sagemath"
  },
  "language_info": {
   "codemirror_mode": {
    "name": "ipython",
    "version": 2
   },
   "file_extension": ".py",
   "mimetype": "text/x-python",
   "name": "python",
   "nbconvert_exporter": "python",
   "pygments_lexer": "ipython2",
   "version": "2.7.15"
  }
 },
 "nbformat": 4,
 "nbformat_minor": 2
}
