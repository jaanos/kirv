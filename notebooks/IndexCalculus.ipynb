{
 "cells": [
  {
   "cell_type": "markdown",
   "metadata": {},
   "source": [
    "# Index calculus algorithm\n",
    "\n",
    "We will perform the Index calculus algorithm to compute $\\log_{a} b_i$ ($i = 1, 2$) in $\\mathbf{Z}_{p}^*$, where $a = 5$, $b_1 = 4389733$, $b_2 = 1234567$, and $p = 9330887$ is a prime number."
   ]
  },
  {
   "cell_type": "code",
   "execution_count": 1,
   "metadata": {},
   "outputs": [],
   "source": [
    "from algorithms.euclidean import gcd\n",
    "from algorithms.factorization import factorizeByBase\n",
    "\n",
    "p = 9330887\n",
    "a = 5\n",
    "b1 = 4389733\n",
    "b2 = 1234567"
   ]
  },
  {
   "cell_type": "markdown",
   "metadata": {},
   "source": [
    "We will use a base consisting of $-1$ and all primes less than $50$."
   ]
  },
  {
   "cell_type": "code",
   "execution_count": 2,
   "metadata": {},
   "outputs": [],
   "source": [
    "base = [-1] + prime_range(50)"
   ]
  },
  {
   "cell_type": "markdown",
   "metadata": {},
   "source": [
    "Let us now try to find the logarithms table. We construct a matrix by trying random powers of $a$ and factoring them with the numbers in our base. We stop when the matrix has full rank."
   ]
  },
  {
   "cell_type": "code",
   "execution_count": 3,
   "metadata": {},
   "outputs": [
    {
     "name": "stdout",
     "output_type": "stream",
     "text": [
      "[1 0 1 0 1 0 1 1 0 0 0 0 1 0 1 0]\n",
      "[1 1 4 0 2 0 0 0 1 1 0 0 0 0 0 0]\n",
      "[1 1 5 2 1 0 0 1 0 0 0 0 0 0 0 0]\n",
      "[1 6 0 0 0 1 1 0 0 0 0 0 0 1 0 0]\n",
      "[0 3 1 0 0 1 0 0 0 0 1 1 0 0 0 0]\n",
      "[0 2 0 2 0 0 1 0 0 0 1 0 0 0 0 1]\n",
      "[1 9 3 2 1 0 0 0 0 0 0 0 0 0 0 0]\n",
      "[0 1 1 2 0 0 0 0 0 0 1 1 0 1 0 0]\n",
      "[0 3 4 1 0 0 1 0 1 0 0 0 0 0 0 0]\n",
      "[0 1 0 0 3 0 0 0 1 0 0 0 0 0 0 1]\n",
      "[0 3 3 0 0 0 0 0 2 0 0 0 0 0 1 0]\n",
      "[1 2 0 0 0 2 0 0 0 0 0 1 0 1 0 0]\n",
      "[1 6 3 0 1 0 0 2 0 0 0 0 0 0 0 0]\n",
      "[1 0 0 1 2 0 0 0 0 1 2 0 0 0 0 0]\n",
      "[1 6 0 0 0 1 1 0 0 0 1 1 0 0 0 0]\n",
      "[0 3 1 1 1 0 1 0 1 0 0 0 1 0 0 0]\n",
      "[4746917, 4747026, 6889022, 3908343, 1066760, 6494367, 1934471, 1567977, 7864629, 1638582, 2526531, 6829987, 6466117, 3166568, 4256144, 5639062]\n"
     ]
    }
   ],
   "source": [
    "set_random_seed(0)\n",
    "\n",
    "v = []\n",
    "s = set()\n",
    "r, l = 0, len(base)\n",
    "M = Matrix(nrows=0, ncols=l)\n",
    "while r < l:\n",
    "    i = randint(1, p-1)\n",
    "    if i in s:\n",
    "        continue\n",
    "    s.add(i)\n",
    "    x = pow(a, i, p)\n",
    "    f = factorizeByBase(Integer(x), base, p)\n",
    "    if not f:\n",
    "        continue\n",
    "    MM = Matrix(list(M) + [f])\n",
    "    rr = MM.rank()\n",
    "    if rr > r:\n",
    "        M = MM\n",
    "        r = rr\n",
    "        v.append(i)\n",
    "print(M)\n",
    "print(v)"
   ]
  },
  {
   "cell_type": "markdown",
   "metadata": {},
   "source": [
    "We now solve the system of equations we have obtained. The solution represents our table of logarithms and can be used to find logarithms of multiple numbers."
   ]
  },
  {
   "cell_type": "code",
   "execution_count": 4,
   "metadata": {},
   "outputs": [
    {
     "data": {
      "text/plain": [
       "[4665443]\n",
       "[6670912]\n",
       "[2030334]\n",
       "[      1]\n",
       "[5786904]\n",
       "[1078197]\n",
       "[8534197]\n",
       "[7606749]\n",
       "[8519903]\n",
       "[2519168]\n",
       "[6200403]\n",
       "[9068634]\n",
       "[7409417]\n",
       "[5590350]\n",
       "[6037417]\n",
       "[6410599]"
      ]
     },
     "execution_count": 4,
     "metadata": {},
     "output_type": "execute_result"
    }
   ],
   "source": [
    "t = M^-1 * Matrix(zip(v)) % (p-1)\n",
    "t"
   ]
  },
  {
   "cell_type": "markdown",
   "metadata": {},
   "source": [
    "Let us verify that the table is correct."
   ]
  },
  {
   "cell_type": "code",
   "execution_count": 5,
   "metadata": {},
   "outputs": [
    {
     "data": {
      "text/plain": [
       "[9330886, 2, 3, 5, 7, 11, 13, 17, 19, 23, 29, 31, 37, 41, 43, 47]"
      ]
     },
     "execution_count": 5,
     "metadata": {},
     "output_type": "execute_result"
    }
   ],
   "source": [
    "[pow(a, i, p) for i, in t]"
   ]
  },
  {
   "cell_type": "markdown",
   "metadata": {},
   "source": [
    "We can now find a power of $b_i$ that can be factorized with our base. We will use the following function."
   ]
  },
  {
   "cell_type": "code",
   "execution_count": 6,
   "metadata": {},
   "outputs": [],
   "source": [
    "def findPower(b, p, t, base):\n",
    "    while True:\n",
    "        i = randint(1, p-1)\n",
    "        x = pow(b, i, p)\n",
    "        f = factorizeByBase(Integer(x), base, p)\n",
    "        if not f:\n",
    "            continue\n",
    "        return (i, f)"
   ]
  },
  {
   "cell_type": "markdown",
   "metadata": {},
   "source": [
    "Let us find such a power of $b_1$ and its factorization."
   ]
  },
  {
   "cell_type": "code",
   "execution_count": 7,
   "metadata": {},
   "outputs": [
    {
     "data": {
      "text/plain": [
       "(7675068, [0, 1, 3, 0, 0, 0, 0, 0, 2, 0, 0, 0, 0, 1, 0, 0])"
      ]
     },
     "execution_count": 7,
     "metadata": {},
     "output_type": "execute_result"
    }
   ],
   "source": [
    "i1, f1 = findPower(b1, p, t, base)\n",
    "i1, f1"
   ]
  },
  {
   "cell_type": "markdown",
   "metadata": {},
   "source": [
    "We can now use the logarithm table to obtain a congruence in $\\log_a b_1$. However, there may be multiple solutions, and we need to check which one is our answer. The number of solutions is given by the greatest common divisor of $p-1$ and the obtained exponent."
   ]
  },
  {
   "cell_type": "code",
   "execution_count": 8,
   "metadata": {},
   "outputs": [
    {
     "data": {
      "text/plain": [
       "2"
      ]
     },
     "execution_count": 8,
     "metadata": {},
     "output_type": "execute_result"
    }
   ],
   "source": [
    "g1 = gcd(i1, p-1)\n",
    "g1"
   ]
  },
  {
   "cell_type": "markdown",
   "metadata": {},
   "source": [
    "We can thus obtain a solution modulo $p-1$ divided by this GCD."
   ]
  },
  {
   "cell_type": "code",
   "execution_count": 9,
   "metadata": {},
   "outputs": [
    {
     "data": {
      "text/plain": [
       "1087862"
      ]
     },
     "execution_count": 9,
     "metadata": {},
     "output_type": "execute_result"
    }
   ],
   "source": [
    "m1 = ((p-1)/g1)\n",
    "(x1,), = Matrix([f1])*t / i1 % m1\n",
    "x1"
   ]
  },
  {
   "cell_type": "markdown",
   "metadata": {},
   "source": [
    "Let us now put this into a function which will also verify the potential solutions."
   ]
  },
  {
   "cell_type": "code",
   "execution_count": 10,
   "metadata": {},
   "outputs": [
    {
     "name": "stdout",
     "output_type": "stream",
     "text": [
      "5^1087862 mod 9330887 = 4941154\n",
      "5^5753305 mod 9330887 = 4389733\n"
     ]
    },
    {
     "data": {
      "text/plain": [
       "5753305"
      ]
     },
     "execution_count": 10,
     "metadata": {},
     "output_type": "execute_result"
    }
   ],
   "source": [
    "def checkSolutions(a, b, p, t, i, f):\n",
    "    g = gcd(i, p-1)\n",
    "    m = (p-1)/g\n",
    "    (x,), = Matrix([f])*t / i % m\n",
    "    for j in range(g):\n",
    "        y = pow(a, x, p)\n",
    "        print(\"%d^%d mod %d = %d\" % (a, x, p, y))\n",
    "        if y == b:\n",
    "            return x\n",
    "        x += m\n",
    "\n",
    "checkSolutions(a, b1, p, t, i1, f1)"
   ]
  },
  {
   "cell_type": "markdown",
   "metadata": {},
   "source": [
    "We have thus computed $\\log_a b_1$. Let us now compute $\\log_a b_2$."
   ]
  },
  {
   "cell_type": "code",
   "execution_count": 11,
   "metadata": {},
   "outputs": [
    {
     "data": {
      "text/plain": [
       "(1643897, [1, 7, 2, 0, 0, 2, 1, 0, 0, 0, 0, 0, 0, 0, 0, 0])"
      ]
     },
     "execution_count": 11,
     "metadata": {},
     "output_type": "execute_result"
    }
   ],
   "source": [
    "i2, f2 = findPower(b2, p, t, base)\n",
    "i2, f2"
   ]
  },
  {
   "cell_type": "code",
   "execution_count": 12,
   "metadata": {},
   "outputs": [
    {
     "name": "stdout",
     "output_type": "stream",
     "text": [
      "5^7273774 mod 9330887 = 1234567\n"
     ]
    },
    {
     "data": {
      "text/plain": [
       "7273774"
      ]
     },
     "execution_count": 12,
     "metadata": {},
     "output_type": "execute_result"
    }
   ],
   "source": [
    "checkSolutions(a, b2, p, t, i2, f2)"
   ]
  },
  {
   "cell_type": "markdown",
   "metadata": {},
   "source": [
    "We will now use the function `logarithmTable` to compute tables of logarithms, which will then be used to compute some more discrete logarithms with the function `indexCalculus`. We will measure the evaluation times."
   ]
  },
  {
   "cell_type": "code",
   "execution_count": 13,
   "metadata": {},
   "outputs": [],
   "source": [
    "from algorithms.discreteLogarithm import logarithmTable, indexCalculus\n",
    "\n",
    "aa = 47\n",
    "bb = 191"
   ]
  },
  {
   "cell_type": "code",
   "execution_count": 14,
   "metadata": {},
   "outputs": [
    {
     "name": "stdout",
     "output_type": "stream",
     "text": [
      "found factorization 47^29227416932 = 2^4 * 3^2 * 5^1 * 11^1 * 13^1 * 17^1 * 23^1 * 37^2 (mod 100000000003)\n",
      "found factorization 47^66046858944 = -1^1 * 2^2 * 3^2 * 5^2 * 7^3 * 17^1 * 19^2 * 23^1 (mod 100000000003)\n",
      "found factorization 47^24486550609 = 3^2 * 7^1 * 11^1 * 17^3 * 29^1 * 37^1 (mod 100000000003)\n",
      "found factorization 47^85242779496 = 2^4 * 3^1 * 5^4 * 17^4 * 37^1 (mod 100000000003)\n",
      "found factorization 47^16805509848 = -1^1 * 3^3 * 5^3 * 7^1 * 17^1 * 29^1 * 41^1 * 43^1 (mod 100000000003)\n",
      "found factorization 47^75591456706 = -1^1 * 2^8 * 3^4 * 7^2 * 11^2 * 19^1 * 29^1 (mod 100000000003)\n",
      "found factorization 47^8278721305 = -1^1 * 2^2 * 3^3 * 11^1 * 19^1 * 23^2 * 29^2 (mod 100000000003)\n",
      "found factorization 47^58912326141 = 3^2 * 5^1 * 7^2 * 13^1 * 29^3 * 37^1 (mod 100000000003)\n",
      "found factorization 47^38191145701 = 2^5 * 3^1 * 11^1 * 13^1 * 17^2 * 19^2 * 31^1 (mod 100000000003)\n",
      "found factorization 47^37063051674 = 2^4 * 5^1 * 13^4 * 17^2 * 19^1 (mod 100000000003)\n",
      "found factorization 47^824747457 = -1^1 * 2^1 * 3^4 * 5^1 * 19^1 * 29^1 * 47^3 (mod 100000000003)\n",
      "found factorization 47^88993013228 = -1^1 * 3^2 * 5^2 * 7^1 * 17^1 * 19^1 * 29^1 * 41^2 (mod 100000000003)\n",
      "rank not increased, discarding\n",
      "found factorization 47^67480374472 = 2^12 * 7^1 * 17^1 * 31^1 * 41^1 * 47^1 (mod 100000000003)\n",
      "found factorization 47^12555886428 = -1^1 * 2^6 * 3^5 * 5^1 * 7^1 * 13^3 * 41^1 (mod 100000000003)\n",
      "found factorization 47^97561060262 = -1^1 * 2^7 * 3^2 * 7^1 * 23^5 (mod 100000000003)\n",
      "found factorization 47^68509132421 = 2^6 * 5^1 * 7^2 * 17^1 * 19^2 * 47^1 (mod 100000000003)\n",
      "rank not increased, discarding\n",
      "found factorization 47^88316672278 = 2^5 * 3^2 * 11^2 * 17^1 * 23^1 * 31^1 * 41^1 (mod 100000000003)\n",
      "found factorization 47^66741129007 = 2^11 * 3^3 * 19^3 * 43^1 (mod 100000000003)\n",
      "rank not increased, discarding\n",
      "found factorization 47^60085783201 = -1^1 * 2^3 * 3^2 * 5^1 * 13^1 * 17^1 * 29^1 * 31^3 (mod 100000000003)\n",
      "rank not increased, discarding\n",
      "found factorization 47^42016659368 = -1^1 * 2^1 * 11^1 * 23^1 * 37^1 * 41^2 (mod 100000000003)\n",
      "rank not increased, discarding\n",
      "found factorization 47^16989512759 = -1^1 * 2^5 * 3^2 * 7^1 * 11^1 * 23^1 * 29^2 * 37^1 (mod 100000000003)\n",
      "CPU times: user 23.8 s, sys: 112 ms, total: 24 s\n",
      "Wall time: 24.5 s\n",
      "[50000000001, 88948660783, 74403602789, 76906212201, 2995382539, 11520765452, 33861633403, 95303711677, 78308239391, 74623569337, 9047223934, 26437938024, 66204838085, 75359412859, 30170333882, 1]\n",
      "found factorization 191^123126866 = 3^1 * 5^3 * 7^1 * 13^1 * 17^1 * 19^2 * 37^1 (mod 100000000003)\n",
      "checking 2 solutions for 47^x = 191, x = 6935101882 (mod 50000000001)\n",
      "47^6935101882 mod 100000000003 = 191\n",
      "CPU times: user 676 ms, sys: 8 ms, total: 684 ms\n",
      "Wall time: 698 ms\n"
     ]
    },
    {
     "data": {
      "text/plain": [
       "6935101882"
      ]
     },
     "execution_count": 14,
     "metadata": {},
     "output_type": "execute_result"
    }
   ],
   "source": [
    "pp = 100000000003\n",
    "table = %time logarithmTable(aa, pp, base, trace = True)\n",
    "print(table)\n",
    "%time indexCalculus(aa, bb, pp, base, table, trace = True)"
   ]
  },
  {
   "cell_type": "code",
   "execution_count": 15,
   "metadata": {},
   "outputs": [
    {
     "name": "stdout",
     "output_type": "stream",
     "text": [
      "found factorization 47^7656292675090614622 = -1^1 * 2^7 * 3^1 * 97^1 * 313^1 * 487^1 * 491^1 * 1579^1 * 2131^1 (mod 10000000000000000051)\n",
      "found factorization 47^5897058151425594450 = 2^3 * 23^1 * 37^2 * 71^1 * 79^1 * 139^1 * 1637^1 * 2557^1 (mod 10000000000000000051)\n",
      "found factorization 47^9164593694298065188 = -1^1 * 2^1 * 3^1 * 5^1 * 11^1 * 13^1 * 67^1 * 191^1 * 227^1 * 439^1 * 599^1 * 2671^1 (mod 10000000000000000051)\n",
      "found factorization 47^7922551988556957951 = 2^4 * 3^1 * 5^1 * 37^1 * 47^1 * 59^1 * 83^1 * 1583^1 * 1609^1 * 1847^1 (mod 10000000000000000051)\n",
      "found factorization 47^1033256369410264427 = -1^1 * 2^1 * 7^1 * 23^1 * 1291^1 * 1429^1 * 1601^1 * 2777^1 * 3533^1 (mod 10000000000000000051)\n",
      "found factorization 47^2184518400175163626 = 2^3 * 5^2 * 79^1 * 263^1 * 269^1 * 919^1 * 2689^1 * 2861^1 (mod 10000000000000000051)\n",
      "found factorization 47^6644364455943886375 = -1^1 * 2^1 * 13^1 * 43^1 * 97^1 * 107^1 * 179^1 * 431^1 * 929^1 * 4463^1 (mod 10000000000000000051)\n",
      "found factorization 47^7212457680597537784 = -1^1 * 2^1 * 5^3 * 29^1 * 67^1 * 89^1 * 101^1 * 317^1 * 347^1 * 4409^1 (mod 10000000000000000051)\n",
      "found factorization 47^6835617636835013578 = 41^1 * 197^1 * 251^1 * 331^1 * 347^1 * 1889^1 * 4801^1 (mod 10000000000000000051)\n",
      "found factorization 47^2835746664953311567 = 2^1 * 19^1 * 113^1 * 239^1 * 443^1 * 449^1 * 2287^1 * 2909^1 (mod 10000000000000000051)\n",
      "found factorization 47^8426213546321149302 = 2^6 * 3^1 * 5^1 * 7^1 * 137^1 * 397^1 * 2069^1 * 2659^1 * 4021^1 (mod 10000000000000000051)\n",
      "found factorization 47^4950911487280429930 = 3^2 * 5^1 * 7^1 * 41^1 * 107^1 * 911^1 * 1117^1 * 1721^1 * 1933^1 (mod 10000000000000000051)\n",
      "found factorization 47^3246528430399593300 = 2^1 * 3^1 * 17^1 * 139^1 * 173^1 * 349^1 * 1303^1 * 1753^1 * 2731^1 (mod 10000000000000000051)\n",
      "found factorization 47^4411224958013902126 = 2^1 * 3^3 * 5^1 * 13^2 * 137^1 * 359^1 * 439^1 * 1187^1 * 2861^1 (mod 10000000000000000051)\n",
      "found factorization 47^7583807987054714739 = -1^1 * 2^5 * 3^2 * 23^1 * 61^1 * 947^1 * 2617^1 * 2677^1 * 2861^1 (mod 10000000000000000051)\n",
      "found factorization 47^2019897589409053907 = 3^2 * 31^1 * 67^1 * 101^1 * 1237^1 * 2663^1 * 2903^1 (mod 10000000000000000051)\n",
      "found factorization 47^7740223128591482369 = 2^6 * 7^1 * 97^1 * 151^1 * 313^1 * 439^1 * 1021^1 * 1471^1 (mod 10000000000000000051)\n",
      "found factorization 47^6796663463663691847 = 2^2 * 3^2 * 271^1 * 293^1 * 461^1 * 1439^1 * 1733^1 * 2699^1 (mod 10000000000000000051)\n",
      "found factorization 47^6880061344220753329 = 3^3 * 5^2 * 11^1 * 73^1 * 223^1 * 239^1 * 557^1 * 577^1 * 953^1 (mod 10000000000000000051)\n",
      "found factorization 47^8956043476832950829 = -1^1 * 3^1 * 11^2 * 13^2 * 29^1 * 41^1 * 131^1 * 233^1 * 787^1 * 2861^1 (mod 10000000000000000051)\n",
      "found factorization 47^1307964560066921616 = -1^1 * 2^1 * 3^1 * 5^1 * 7^2 * 43^1 * 157^1 * 199^1 * 563^1 * 593^1 * 3539^1 (mod 10000000000000000051)\n",
      "found factorization 47^5540508121172461950 = -1^1 * 2^3 * 5^1 * 23^2 * 41^1 * 829^1 * 1231^1 * 1823^1 * 4657^1 (mod 10000000000000000051)\n",
      "found factorization 47^8414029655211960983 = -1^1 * 2^3 * 3^2 * 11^2 * 79^1 * 197^1 * 229^1 * 397^1 * 523^1 * 1459^1 (mod 10000000000000000051)\n",
      "found factorization 47^6543977300596277495 = -1^1 * 2^2 * 3^2 * 11^1 * 59^1 * 191^1 * 311^1 * 397^1 * 1249^1 * 1531^1 (mod 10000000000000000051)\n",
      "found factorization 47^8475249301343351807 = 3^4 * 5^1 * 19^1 * 61^1 * 67^1 * 149^1 * 211^1 * 647^1 * 907^1 (mod 10000000000000000051)\n",
      "found factorization 47^8906905247799589232 = -1^1 * 3^2 * 31^1 * 167^1 * 293^1 * 1033^1 * 2593^1 * 3847^1 (mod 10000000000000000051)\n",
      "found factorization 47^6728855676599104264 = -1^1 * 3^3 * 7^1 * 11^1 * 17^1 * 73^1 * 241^1 * 1021^2 * 1109^1 (mod 10000000000000000051)\n",
      "found factorization 47^1742320283522221395 = 2^1 * 19^1 * 131^1 * 1489^1 * 3709^1 * 4513^1 * 4987^1 (mod 10000000000000000051)\n",
      "found factorization 47^6113843956515859538 = -1^1 * 2^1 * 3^1 * 31^1 * 181^1 * 193^1 * 571^1 * 953^1 * 1187^1 * 1697^1 (mod 10000000000000000051)\n",
      "found factorization 47^433280387809058917 = 2^1 * 5^1 * 7^1 * 23^1 * 29^1 * 73^1 * 443^1 * 743^1 * 2203^1 * 3863^1 (mod 10000000000000000051)\n",
      "found factorization 47^8721715001037454831 = 3^2 * 197^1 * 233^1 * 521^1 * 1481^1 * 2207^1 * 2459^1 (mod 10000000000000000051)\n",
      "found factorization 47^805628664810652654 = 2^3 * 3^1 * 53^1 * 139^1 * 997^1 * 1787^1 * 3467^1 * 4561^1 (mod 10000000000000000051)\n",
      "found factorization 47^172944934486175697 = -1^1 * 2^3 * 3^2 * 5^1 * 7^2 * 23^2 * 197^1 * 271^1 * 421^1 * 2683^1 (mod 10000000000000000051)\n",
      "found factorization 47^9639136780075950501 = 31^1 * 53^1 * 181^1 * 1619^1 * 1877^1 * 2617^1 * 2731^1 (mod 10000000000000000051)\n",
      "found factorization 47^6995041429177991977 = -1^1 * 2^1 * 3^1 * 19^1 * 23^1 * 137^2 * 401^1 * 431^1 * 887^1 * 991^1 (mod 10000000000000000051)\n",
      "found factorization 47^5344869495116670508 = 19^1 * 37^1 * 283^1 * 1373^1 * 1433^1 * 4421^1 * 4603^1 (mod 10000000000000000051)\n",
      "found factorization 47^3701893602637801562 = 2^1 * 7^1 * 11^1 * 223^1 * 523^1 * 3167^1 * 4349^1 * 4723^1 (mod 10000000000000000051)\n",
      "found factorization 47^2919934129505472951 = 31^1 * 61^1 * 107^1 * 863^1 * 1483^1 * 1933^1 * 3181^1 (mod 10000000000000000051)\n",
      "found factorization 47^2667754001620967035 = 7^2 * 13^1 * 101^1 * 127^1 * 223^1 * 709^1 * 881^1 * 2083^1 (mod 10000000000000000051)\n",
      "found factorization 47^2611839082523334654 = -1^1 * 23^1 * 151^1 * 293^1 * 1151^1 * 1559^1 * 2081^1 * 2393^1 (mod 10000000000000000051)\n",
      "found factorization 47^2753853276355326466 = 2^2 * 5^2 * 53^1 * 487^1 * 607^1 * 1259^1 * 3359^1 (mod 10000000000000000051)\n",
      "found factorization 47^817885556332707830 = 3^1 * 31^1 * 73^1 * 193^1 * 593^1 * 613^1 * 1931^1 * 4007^1 (mod 10000000000000000051)\n",
      "found factorization 47^8056803356645108901 = 31^1 * 47^1 * 151^1 * 353^1 * 607^1 * 1303^1 * 2593^1 (mod 10000000000000000051)\n",
      "found factorization 47^8113170100947810434 = 2^2 * 23^2 * 61^1 * 71^1 * 257^1 * 541^1 * 937^1 * 4397^1 (mod 10000000000000000051)\n",
      "found factorization 47^9884093612988993560 = -1^1 * 2^3 * 59^1 * 89^1 * 313^1 * 419^1 * 677^1 * 727^1 * 1447^1 (mod 10000000000000000051)\n",
      "found factorization 47^4192047902502945613 = 3^2 * 5^2 * 37^1 * 223^1 * 389^1 * 929^1 * 1583^1 * 2473^1 (mod 10000000000000000051)\n",
      "found factorization 47^6621227906969543723 = 2^2 * 13^1 * 23^4 * 229^1 * 613^1 * 821^1 * 1987^1 (mod 10000000000000000051)\n",
      "found factorization 47^5214078766763151280 = -1^1 * 2^1 * 3^2 * 5^3 * 7^3 * 11^1 * 29^1 * 73^1 * 79^1 * 1481^1 * 4211^1 (mod 10000000000000000051)\n",
      "found factorization 47^804838092259372921 = 2^8 * 3^2 * 7^1 * 11^1 * 17^1 * 19^1 * 47^1 * 109^1 * 487^1 * 2861^1 (mod 10000000000000000051)\n",
      "found factorization 47^9043967189981626912 = -1^1 * 3^2 * 23^1 * 29^1 * 31^1 * 883^1 * 941^1 * 1931^1 * 2699^1 (mod 10000000000000000051)\n",
      "found factorization 47^4052413865195965492 = 2^2 * 3^1 * 5^1 * 17^1 * 29^1 * 181^1 * 197^1 * 409^1 * 1579^1 * 4643^1 (mod 10000000000000000051)\n",
      "found factorization 47^9467118124327694825 = 2^4 * 3^1 * 5^1 * 43^1 * 83^1 * 107^1 * 113^1 * 643^1 * 821^1 * 1747^1 (mod 10000000000000000051)\n",
      "found factorization 47^455969672219237036 = 2^3 * 17^2 * 157^1 * 163^1 * 199^1 * 229^1 * 751^1 * 1103^1 (mod 10000000000000000051)\n",
      "found factorization 47^1682328509917818821 = 2^4 * 3^2 * 23^1 * 31^1 * 37^1 * 283^1 * 677^1 * 829^1 * 2699^1 (mod 10000000000000000051)\n",
      "found factorization 47^1434881794135775272 = 2^5 * 5^1 * 53^1 * 131^1 * 163^1 * 197^1 * 311^1 * 317^1 * 2713^1 (mod 10000000000000000051)\n",
      "found factorization 47^2038712989579637109 = 2^2 * 3^1 * 7^1 * 19^1 * 53^2 * 251^1 * 787^1 * 1283^1 * 1801^1 (mod 10000000000000000051)\n",
      "found factorization 47^6553009238732990044 = -1^1 * 2^6 * 5^1 * 13^2 * 23^1 * 593^1 * 1151^1 * 1399^1 * 4447^1 (mod 10000000000000000051)\n",
      "found factorization 47^2538906181677570794 = -1^1 * 2^2 * 5^1 * 17^1 * 587^1 * 1471^1 * 2557^1 * 2731^1 * 4409^1 (mod 10000000000000000051)\n",
      "found factorization 47^9603462376969978555 = -1^1 * 71^1 * 101^1 * 191^1 * 2137^1 * 2473^1 * 3469^1 (mod 10000000000000000051)\n",
      "found factorization 47^676875617023786040 = -1^1 * 2^6 * 23^1 * 31^1 * 1669^1 * 3701^1 * 4027^1 * 4261^1 (mod 10000000000000000051)\n",
      "found factorization 47^8334842994622971840 = -1^1 * 3^3 * 7^2 * 317^1 * 1429^1 * 1693^1 * 2069^1 * 3767^1 (mod 10000000000000000051)\n"
     ]
    },
    {
     "name": "stdout",
     "output_type": "stream",
     "text": [
      "found factorization 47^4587355764029354492 = 3^2 * 5^1 * 19^2 * 29^1 * 97^1 * 241^2 * 1373^1 * 1381^1 (mod 10000000000000000051)\n",
      "found factorization 47^1064503433085610551 = 3^1 * 53^1 * 409^1 * 613^1 * 757^1 * 3923^1 * 4957^1 (mod 10000000000000000051)\n",
      "found factorization 47^3768282425562682518 = -1^1 * 3^1 * 79^2 * 197^1 * 379^1 * 613^1 * 1297^1 * 3853^1 (mod 10000000000000000051)\n",
      "found factorization 47^7040398255111055417 = 3^2 * 7^3 * 457^1 * 631^1 * 1129^1 * 2437^1 * 3607^1 (mod 10000000000000000051)\n",
      "found factorization 47^3638881606240851367 = -1^1 * 3^1 * 5^1 * 139^1 * 317^1 * 353^1 * 2351^1 * 3457^1 * 4421^1 (mod 10000000000000000051)\n",
      "found factorization 47^1774809294437377104 = 2^3 * 3^1 * 103^1 * 521^2 * 541^1 * 3967^1 * 4211^1 (mod 10000000000000000051)\n",
      "found factorization 47^4725811024570028178 = -1^1 * 3^1 * 137^1 * 163^1 * 239^1 * 349^1 * 941^1 * 977^1 * 1259^1 (mod 10000000000000000051)\n",
      "found factorization 47^7326969226354823496 = 2^1 * 3^1 * 5^3 * 11^1 * 13^1 * 17^1 * 73^1 * 631^1 * 2503^1 * 4349^1 (mod 10000000000000000051)\n",
      "found factorization 47^6426443217767786121 = -1^1 * 2^4 * 3^5 * 5^1 * 7^1 * 97^1 * 191^2 * 3929^1 * 4957^1 (mod 10000000000000000051)\n",
      "found factorization 47^888154144185771151 = -1^1 * 3^2 * 5^2 * 17^1 * 23^1 * 61^1 * 293^1 * 593^1 * 1453^1 * 2903^1 (mod 10000000000000000051)\n",
      "found factorization 47^30653569434684844 = -1^1 * 11^1 * 37^1 * 67^1 * 179^2 * 701^1 * 3119^1 * 4273^1 (mod 10000000000000000051)\n",
      "found factorization 47^3164712208591959427 = -1^1 * 2^6 * 3^2 * 5^1 * 7^1 * 29^1 * 163^1 * 1747^1 * 1787^1 * 4153^1 (mod 10000000000000000051)\n",
      "found factorization 47^6183852553841611 = -1^1 * 2^2 * 3^2 * 5^3 * 7^2 * 59^1 * 101^1 * 409^1 * 1789^1 * 3881^1 (mod 10000000000000000051)\n",
      "found factorization 47^1784253698084064603 = 3^2 * 7^1 * 11^1 * 163^1 * 773^1 * 3413^1 * 4241^1 * 4463^1 (mod 10000000000000000051)\n",
      "found factorization 47^1932936350267832504 = 2^2 * 3^1 * 5^1 * 23^2 * 73^1 * 163^1 * 439^1 * 929^1 * 3727^1 (mod 10000000000000000051)\n",
      "found factorization 47^6909172573584251744 = -1^1 * 5^2 * 31^1 * 223^1 * 857^1 * 2459^1 * 3511^1 * 3673^1 (mod 10000000000000000051)\n",
      "found factorization 47^720961369400600757 = -1^1 * 2^1 * 7^1 * 11^1 * 37^1 * 101^1 * 761^1 * 1627^1 * 2729^1 * 4649^1 (mod 10000000000000000051)\n",
      "found factorization 47^8001083630297056376 = -1^1 * 2^5 * 19^1 * 23^1 * 167^1 * 229^1 * 1217^1 * 2843^1 * 3257^1 (mod 10000000000000000051)\n",
      "found factorization 47^7381490762319989648 = -1^1 * 2^5 * 11^1 * 23^1 * 41^1 * 79^1 * 167^1 * 193^1 * 809^1 * 2411^1 (mod 10000000000000000051)\n",
      "found factorization 47^5001799574342352762 = 3^1 * 17^1 * 41^1 * 53^1 * 79^1 * 419^1 * 443^1 * 2029^1 * 2089^1 (mod 10000000000000000051)\n",
      "found factorization 47^2415005822419764322 = 2^1 * 3^1 * 5^1 * 19^1 * 43^1 * 61^1 * 67^1 * 109^1 * 211^1 * 601^1 * 4243^1 (mod 10000000000000000051)\n",
      "found factorization 47^3483609340829060911 = 3^9 * 13^2 * 293^1 * 373^1 * 1021^1 * 1597^1 (mod 10000000000000000051)\n",
      "found factorization 47^106108110577341440 = -1^1 * 5^1 * 43^2 * 199^1 * 827^1 * 1163^1 * 1429^1 * 2293^1 (mod 10000000000000000051)\n",
      "found factorization 47^2476840122844864590 = 3^2 * 19^1 * 37^1 * 103^1 * 383^1 * 1171^1 * 2861^1 * 3593^1 (mod 10000000000000000051)\n",
      "found factorization 47^2681689279185527565 = -1^1 * 3^1 * 17^1 * 23^1 * 53^1 * 71^1 * 211^1 * 563^1 * 2851^1 * 4787^1 (mod 10000000000000000051)\n",
      "found factorization 47^6680550448199281276 = 7^1 * 17^1 * 211^1 * 271^1 * 307^1 * 937^1 * 1061^1 * 1987^1 (mod 10000000000000000051)\n",
      "found factorization 47^1096565266365353099 = 2^1 * 5^1 * 7^1 * 1171^1 * 1693^1 * 3271^1 * 4337^1 * 4969^1 (mod 10000000000000000051)\n",
      "found factorization 47^4001792438088158173 = 11^1 * 59^1 * 67^1 * 1867^1 * 3469^1 * 4651^1 * 4943^1 (mod 10000000000000000051)\n",
      "found factorization 47^9910896631558901316 = -1^1 * 2^6 * 3^4 * 109^1 * 139^2 * 607^1 * 761^1 * 1549^1 (mod 10000000000000000051)\n",
      "found factorization 47^3751847747788168426 = 7^1 * 23^2 * 53^1 * 733^1 * 2141^1 * 3023^1 * 3557^1 (mod 10000000000000000051)\n",
      "found factorization 47^3227729204615463073 = 2^8 * 53^1 * 131^1 * 2311^1 * 4783^1 * 4793^1 (mod 10000000000000000051)\n",
      "found factorization 47^3364517565253004389 = 2^7 * 3^1 * 5^4 * 13^1 * 107^1 * 127^1 * 379^1 * 409^1 * 691^1 (mod 10000000000000000051)\n",
      "found factorization 47^1673936621520416626 = -1^1 * 3^1 * 5^1 * 29^1 * 41^1 * 67^1 * 701^1 * 1669^1 * 1697^1 * 3499^1 (mod 10000000000000000051)\n",
      "found factorization 47^1540746938927926884 = 2^1 * 19^1 * 37^1 * 751^1 * 1117^1 * 1543^1 * 1709^1 * 2063^1 (mod 10000000000000000051)\n",
      "found factorization 47^6178728674340757116 = -1^1 * 7^1 * 149^1 * 613^2 * 941^1 * 1381^1 * 3343^1 (mod 10000000000000000051)\n",
      "found factorization 47^3296586544797259221 = -1^1 * 2^5 * 3^2 * 5^1 * 11^1 * 277^1 * 353^1 * 787^1 * 1237^1 * 3853^1 (mod 10000000000000000051)\n",
      "found factorization 47^5168828933476068706 = -1^1 * 3^2 * 5^1 * 17^1 * 19^1 * 43^1 * 79^1 * 439^1 * 631^1 * 1607^1 (mod 10000000000000000051)\n",
      "found factorization 47^5781040272849802142 = -1^1 * 3^2 * 7^1 * 13^1 * 37^1 * 47^1 * 173^1 * 1237^1 * 4397^1 * 4561^1 (mod 10000000000000000051)\n",
      "found factorization 47^7644028914942013759 = 11^1 * 59^1 * 139^1 * 947^1 * 3557^1 * 4691^1 * 4933^1 (mod 10000000000000000051)\n",
      "found factorization 47^9482452123060223425 = -1^1 * 2^7 * 11^1 * 101^1 * 127^1 * 151^1 * 877^1 * 1019^1 * 2351^1 (mod 10000000000000000051)\n",
      "found factorization 47^3820922645237459936 = 3^5 * 5^1 * 11^1 * 149^1 * 307^1 * 863^1 * 1783^1 * 3767^1 (mod 10000000000000000051)\n",
      "found factorization 47^2222192884906900637 = 5^1 * 7^1 * 101^1 * 103^1 * 163^1 * 2179^1 * 2819^1 * 4909^1 (mod 10000000000000000051)\n",
      "found factorization 47^6125660026512407140 = -1^1 * 2^2 * 3^1 * 11^1 * 13^1 * 29^1 * 71^1 * 107^1 * 113^1 * 409^1 * 643^1 * 811^1 (mod 10000000000000000051)\n",
      "found factorization 47^7125227741118531532 = -1^1 * 3^4 * 5^1 * 7^1 * 43^1 * 47^1 * 103^1 * 443^1 * 751^1 * 1567^1 (mod 10000000000000000051)\n",
      "found factorization 47^7519384252072748720 = -1^1 * 2^1 * 37^2 * 83^1 * 227^1 * 2003^1 * 4243^1 * 4799^1 (mod 10000000000000000051)\n",
      "found factorization 47^3311093071978261266 = 2^1 * 3^1 * 5^1 * 11^1 * 29^1 * 31^1 * 157^1 * 1613^1 * 1879^1 * 3881^1 (mod 10000000000000000051)\n",
      "found factorization 47^5450898617908337862 = -1^1 * 2^8 * 3^3 * 7^1 * 11^1 * 37^1 * 179^1 * 353^1 * 389^1 * 733^1 (mod 10000000000000000051)\n",
      "found factorization 47^7474573226961068751 = 2^1 * 67^1 * 293^1 * 599^1 * 1039^1 * 1051^1 * 2267^1 (mod 10000000000000000051)\n",
      "found factorization 47^8739825315779342916 = -1^1 * 5^1 * 157^1 * 401^1 * 449^1 * 739^1 * 2143^1 * 3931^1 (mod 10000000000000000051)\n",
      "found factorization 47^3435289845276144289 = -1^1 * 43^1 * 137^1 * 349^1 * 691^1 * 1181^1 * 1289^1 * 2341^1 (mod 10000000000000000051)\n",
      "found factorization 47^6620857262114602493 = 2^1 * 17^2 * 43^1 * 73^1 * 229^1 * 277^1 * 487^1 * 1847^1 (mod 10000000000000000051)\n",
      "found factorization 47^3826866752867604801 = 3^1 * 5^4 * 101^1 * 103^1 * 257^1 * 569^1 * 1627^1 * 2113^1 (mod 10000000000000000051)\n",
      "found factorization 47^5597733317361750813 = -1^1 * 2^2 * 3^1 * 5^1 * 13^1 * 23^1 * 83^1 * 293^1 * 683^1 * 1753^1 * 4261^1 (mod 10000000000000000051)\n",
      "found factorization 47^9199232498084193629 = 3^2 * 53^1 * 137^1 * 593^1 * 2141^1 * 2857^1 * 4919^1 (mod 10000000000000000051)\n"
     ]
    },
    {
     "ename": "KeyboardInterrupt",
     "evalue": "",
     "output_type": "error",
     "traceback": [
      "\u001b[0;31m---------------------------------------------------------------------------\u001b[0m",
      "\u001b[0;31mKeyboardInterrupt\u001b[0m                         Traceback (most recent call last)",
      "\u001b[0;32m<ipython-input-15-e01e791ca72b>\u001b[0m in \u001b[0;36m<module>\u001b[0;34m()\u001b[0m\n\u001b[1;32m      1\u001b[0m \u001b[0mpp\u001b[0m \u001b[0;34m=\u001b[0m \u001b[0mInteger\u001b[0m\u001b[0;34m(\u001b[0m\u001b[0;36m10000000000000000051\u001b[0m\u001b[0;34m)\u001b[0m\u001b[0;34m\u001b[0m\u001b[0m\n\u001b[1;32m      2\u001b[0m \u001b[0mbase\u001b[0m \u001b[0;34m=\u001b[0m \u001b[0;34m[\u001b[0m\u001b[0;34m-\u001b[0m\u001b[0mInteger\u001b[0m\u001b[0;34m(\u001b[0m\u001b[0;36m1\u001b[0m\u001b[0;34m)\u001b[0m\u001b[0;34m]\u001b[0m \u001b[0;34m+\u001b[0m \u001b[0mprime_range\u001b[0m\u001b[0;34m(\u001b[0m\u001b[0mInteger\u001b[0m\u001b[0;34m(\u001b[0m\u001b[0;36m5000\u001b[0m\u001b[0;34m)\u001b[0m\u001b[0;34m)\u001b[0m\u001b[0;34m\u001b[0m\u001b[0m\n\u001b[0;32m----> 3\u001b[0;31m \u001b[0mtable\u001b[0m \u001b[0;34m=\u001b[0m \u001b[0mget_ipython\u001b[0m\u001b[0;34m(\u001b[0m\u001b[0;34m)\u001b[0m\u001b[0;34m.\u001b[0m\u001b[0mmagic\u001b[0m\u001b[0;34m(\u001b[0m\u001b[0;34mu'time logarithmTable(aa, pp, base, trace = True)'\u001b[0m\u001b[0;34m)\u001b[0m\u001b[0;34m\u001b[0m\u001b[0m\n\u001b[0m\u001b[1;32m      4\u001b[0m \u001b[0mget_ipython\u001b[0m\u001b[0;34m(\u001b[0m\u001b[0;34m)\u001b[0m\u001b[0;34m.\u001b[0m\u001b[0mmagic\u001b[0m\u001b[0;34m(\u001b[0m\u001b[0;34mu'time indexCalculus(aa, bb, pp, base, table, trace = True)'\u001b[0m\u001b[0;34m)\u001b[0m\u001b[0;34m\u001b[0m\u001b[0m\n",
      "\u001b[0;32m/home/janos/sage/local/lib/python2.7/site-packages/IPython/core/interactiveshell.pyc\u001b[0m in \u001b[0;36mmagic\u001b[0;34m(self, arg_s)\u001b[0m\n\u001b[1;32m   2158\u001b[0m         \u001b[0mmagic_name\u001b[0m\u001b[0;34m,\u001b[0m \u001b[0m_\u001b[0m\u001b[0;34m,\u001b[0m \u001b[0mmagic_arg_s\u001b[0m \u001b[0;34m=\u001b[0m \u001b[0marg_s\u001b[0m\u001b[0;34m.\u001b[0m\u001b[0mpartition\u001b[0m\u001b[0;34m(\u001b[0m\u001b[0;34m' '\u001b[0m\u001b[0;34m)\u001b[0m\u001b[0;34m\u001b[0m\u001b[0m\n\u001b[1;32m   2159\u001b[0m         \u001b[0mmagic_name\u001b[0m \u001b[0;34m=\u001b[0m \u001b[0mmagic_name\u001b[0m\u001b[0;34m.\u001b[0m\u001b[0mlstrip\u001b[0m\u001b[0;34m(\u001b[0m\u001b[0mprefilter\u001b[0m\u001b[0;34m.\u001b[0m\u001b[0mESC_MAGIC\u001b[0m\u001b[0;34m)\u001b[0m\u001b[0;34m\u001b[0m\u001b[0m\n\u001b[0;32m-> 2160\u001b[0;31m         \u001b[0;32mreturn\u001b[0m \u001b[0mself\u001b[0m\u001b[0;34m.\u001b[0m\u001b[0mrun_line_magic\u001b[0m\u001b[0;34m(\u001b[0m\u001b[0mmagic_name\u001b[0m\u001b[0;34m,\u001b[0m \u001b[0mmagic_arg_s\u001b[0m\u001b[0;34m)\u001b[0m\u001b[0;34m\u001b[0m\u001b[0m\n\u001b[0m\u001b[1;32m   2161\u001b[0m \u001b[0;34m\u001b[0m\u001b[0m\n\u001b[1;32m   2162\u001b[0m     \u001b[0;31m#-------------------------------------------------------------------------\u001b[0m\u001b[0;34m\u001b[0m\u001b[0;34m\u001b[0m\u001b[0m\n",
      "\u001b[0;32m/home/janos/sage/local/lib/python2.7/site-packages/IPython/core/interactiveshell.pyc\u001b[0m in \u001b[0;36mrun_line_magic\u001b[0;34m(self, magic_name, line)\u001b[0m\n\u001b[1;32m   2079\u001b[0m                 \u001b[0mkwargs\u001b[0m\u001b[0;34m[\u001b[0m\u001b[0;34m'local_ns'\u001b[0m\u001b[0;34m]\u001b[0m \u001b[0;34m=\u001b[0m \u001b[0msys\u001b[0m\u001b[0;34m.\u001b[0m\u001b[0m_getframe\u001b[0m\u001b[0;34m(\u001b[0m\u001b[0mstack_depth\u001b[0m\u001b[0;34m)\u001b[0m\u001b[0;34m.\u001b[0m\u001b[0mf_locals\u001b[0m\u001b[0;34m\u001b[0m\u001b[0m\n\u001b[1;32m   2080\u001b[0m             \u001b[0;32mwith\u001b[0m \u001b[0mself\u001b[0m\u001b[0;34m.\u001b[0m\u001b[0mbuiltin_trap\u001b[0m\u001b[0;34m:\u001b[0m\u001b[0;34m\u001b[0m\u001b[0m\n\u001b[0;32m-> 2081\u001b[0;31m                 \u001b[0mresult\u001b[0m \u001b[0;34m=\u001b[0m \u001b[0mfn\u001b[0m\u001b[0;34m(\u001b[0m\u001b[0;34m*\u001b[0m\u001b[0margs\u001b[0m\u001b[0;34m,\u001b[0m\u001b[0;34m**\u001b[0m\u001b[0mkwargs\u001b[0m\u001b[0;34m)\u001b[0m\u001b[0;34m\u001b[0m\u001b[0m\n\u001b[0m\u001b[1;32m   2082\u001b[0m             \u001b[0;32mreturn\u001b[0m \u001b[0mresult\u001b[0m\u001b[0;34m\u001b[0m\u001b[0m\n\u001b[1;32m   2083\u001b[0m \u001b[0;34m\u001b[0m\u001b[0m\n",
      "\u001b[0;32m<decorator-gen-60>\u001b[0m in \u001b[0;36mtime\u001b[0;34m(self, line, cell, local_ns)\u001b[0m\n",
      "\u001b[0;32m/home/janos/sage/local/lib/python2.7/site-packages/IPython/core/magic.pyc\u001b[0m in \u001b[0;36m<lambda>\u001b[0;34m(f, *a, **k)\u001b[0m\n\u001b[1;32m    186\u001b[0m     \u001b[0;31m# but it's overkill for just that one bit of state.\u001b[0m\u001b[0;34m\u001b[0m\u001b[0;34m\u001b[0m\u001b[0m\n\u001b[1;32m    187\u001b[0m     \u001b[0;32mdef\u001b[0m \u001b[0mmagic_deco\u001b[0m\u001b[0;34m(\u001b[0m\u001b[0marg\u001b[0m\u001b[0;34m)\u001b[0m\u001b[0;34m:\u001b[0m\u001b[0;34m\u001b[0m\u001b[0m\n\u001b[0;32m--> 188\u001b[0;31m         \u001b[0mcall\u001b[0m \u001b[0;34m=\u001b[0m \u001b[0;32mlambda\u001b[0m \u001b[0mf\u001b[0m\u001b[0;34m,\u001b[0m \u001b[0;34m*\u001b[0m\u001b[0ma\u001b[0m\u001b[0;34m,\u001b[0m \u001b[0;34m**\u001b[0m\u001b[0mk\u001b[0m\u001b[0;34m:\u001b[0m \u001b[0mf\u001b[0m\u001b[0;34m(\u001b[0m\u001b[0;34m*\u001b[0m\u001b[0ma\u001b[0m\u001b[0;34m,\u001b[0m \u001b[0;34m**\u001b[0m\u001b[0mk\u001b[0m\u001b[0;34m)\u001b[0m\u001b[0;34m\u001b[0m\u001b[0m\n\u001b[0m\u001b[1;32m    189\u001b[0m \u001b[0;34m\u001b[0m\u001b[0m\n\u001b[1;32m    190\u001b[0m         \u001b[0;32mif\u001b[0m \u001b[0mcallable\u001b[0m\u001b[0;34m(\u001b[0m\u001b[0marg\u001b[0m\u001b[0;34m)\u001b[0m\u001b[0;34m:\u001b[0m\u001b[0;34m\u001b[0m\u001b[0m\n",
      "\u001b[0;32m/home/janos/sage/local/lib/python2.7/site-packages/IPython/core/magics/execution.pyc\u001b[0m in \u001b[0;36mtime\u001b[0;34m(self, line, cell, local_ns)\u001b[0m\n\u001b[1;32m   1187\u001b[0m         \u001b[0;32mif\u001b[0m \u001b[0mmode\u001b[0m\u001b[0;34m==\u001b[0m\u001b[0;34m'eval'\u001b[0m\u001b[0;34m:\u001b[0m\u001b[0;34m\u001b[0m\u001b[0m\n\u001b[1;32m   1188\u001b[0m             \u001b[0mst\u001b[0m \u001b[0;34m=\u001b[0m \u001b[0mclock2\u001b[0m\u001b[0;34m(\u001b[0m\u001b[0;34m)\u001b[0m\u001b[0;34m\u001b[0m\u001b[0m\n\u001b[0;32m-> 1189\u001b[0;31m             \u001b[0mout\u001b[0m \u001b[0;34m=\u001b[0m \u001b[0meval\u001b[0m\u001b[0;34m(\u001b[0m\u001b[0mcode\u001b[0m\u001b[0;34m,\u001b[0m \u001b[0mglob\u001b[0m\u001b[0;34m,\u001b[0m \u001b[0mlocal_ns\u001b[0m\u001b[0;34m)\u001b[0m\u001b[0;34m\u001b[0m\u001b[0m\n\u001b[0m\u001b[1;32m   1190\u001b[0m             \u001b[0mend\u001b[0m \u001b[0;34m=\u001b[0m \u001b[0mclock2\u001b[0m\u001b[0;34m(\u001b[0m\u001b[0;34m)\u001b[0m\u001b[0;34m\u001b[0m\u001b[0m\n\u001b[1;32m   1191\u001b[0m         \u001b[0;32melse\u001b[0m\u001b[0;34m:\u001b[0m\u001b[0;34m\u001b[0m\u001b[0m\n",
      "\u001b[0;32m<timed eval>\u001b[0m in \u001b[0;36m<module>\u001b[0;34m()\u001b[0m\n",
      "\u001b[0;32m/home/janos/kirv/kriptografija-in-racunalniska-varnost/kirv/notebooks/algorithms/discreteLogarithm.pyc\u001b[0m in \u001b[0;36mlogarithmTable\u001b[0;34m(a, p, base, trace)\u001b[0m\n\u001b[1;32m    101\u001b[0m         \u001b[0ms\u001b[0m\u001b[0;34m.\u001b[0m\u001b[0madd\u001b[0m\u001b[0;34m(\u001b[0m\u001b[0mi\u001b[0m\u001b[0;34m)\u001b[0m\u001b[0;34m\u001b[0m\u001b[0m\n\u001b[1;32m    102\u001b[0m         \u001b[0mx\u001b[0m \u001b[0;34m=\u001b[0m \u001b[0mpow\u001b[0m\u001b[0;34m(\u001b[0m\u001b[0ma\u001b[0m\u001b[0;34m,\u001b[0m \u001b[0mi\u001b[0m\u001b[0;34m,\u001b[0m \u001b[0mp\u001b[0m\u001b[0;34m)\u001b[0m\u001b[0;34m\u001b[0m\u001b[0m\n\u001b[0;32m--> 103\u001b[0;31m         \u001b[0mf\u001b[0m \u001b[0;34m=\u001b[0m \u001b[0mfactorizeByBase\u001b[0m\u001b[0;34m(\u001b[0m\u001b[0mint\u001b[0m\u001b[0;34m(\u001b[0m\u001b[0mx\u001b[0m\u001b[0;34m)\u001b[0m\u001b[0;34m,\u001b[0m \u001b[0mbase\u001b[0m\u001b[0;34m,\u001b[0m \u001b[0mp\u001b[0m\u001b[0;34m)\u001b[0m\u001b[0;34m\u001b[0m\u001b[0m\n\u001b[0m\u001b[1;32m    104\u001b[0m         \u001b[0;32mif\u001b[0m \u001b[0;32mnot\u001b[0m \u001b[0mf\u001b[0m\u001b[0;34m:\u001b[0m\u001b[0;34m\u001b[0m\u001b[0m\n\u001b[1;32m    105\u001b[0m             \u001b[0;32mcontinue\u001b[0m\u001b[0;34m\u001b[0m\u001b[0m\n",
      "\u001b[0;32m/home/janos/kirv/kriptografija-in-racunalniska-varnost/kirv/notebooks/algorithms/factorization.pyc\u001b[0m in \u001b[0;36mfactorizeByBase\u001b[0;34m(n, base, m)\u001b[0m\n\u001b[1;32m    138\u001b[0m         \u001b[0;32mif\u001b[0m \u001b[0midx\u001b[0m \u001b[0;32mis\u001b[0m \u001b[0mNone\u001b[0m\u001b[0;34m:\u001b[0m\u001b[0;34m\u001b[0m\u001b[0m\n\u001b[1;32m    139\u001b[0m             \u001b[0;32mreturn\u001b[0m \u001b[0mFalse\u001b[0m\u001b[0;34m\u001b[0m\u001b[0m\n\u001b[0;32m--> 140\u001b[0;31m         \u001b[0mfactors\u001b[0m \u001b[0;34m=\u001b[0m \u001b[0mfactorizeByBase\u001b[0m\u001b[0;34m(\u001b[0m\u001b[0;34m-\u001b[0m\u001b[0mn\u001b[0m \u001b[0;34m%\u001b[0m \u001b[0mm\u001b[0m\u001b[0;34m,\u001b[0m \u001b[0mbase\u001b[0m\u001b[0;34m)\u001b[0m\u001b[0;34m\u001b[0m\u001b[0m\n\u001b[0m\u001b[1;32m    141\u001b[0m         \u001b[0;32mif\u001b[0m \u001b[0mfactors\u001b[0m \u001b[0;32mis\u001b[0m \u001b[0mFalse\u001b[0m\u001b[0;34m:\u001b[0m\u001b[0;34m\u001b[0m\u001b[0m\n\u001b[1;32m    142\u001b[0m             \u001b[0;32mreturn\u001b[0m \u001b[0mFalse\u001b[0m\u001b[0;34m\u001b[0m\u001b[0m\n",
      "\u001b[0;32m/home/janos/kirv/kriptografija-in-racunalniska-varnost/kirv/notebooks/algorithms/factorization.pyc\u001b[0m in \u001b[0;36mfactorizeByBase\u001b[0;34m(n, base, m)\u001b[0m\n\u001b[1;32m    132\u001b[0m     \u001b[0mx\u001b[0m \u001b[0;34m=\u001b[0m \u001b[0mn\u001b[0m\u001b[0;34m\u001b[0m\u001b[0m\n\u001b[1;32m    133\u001b[0m     \u001b[0;32mfor\u001b[0m \u001b[0mi\u001b[0m\u001b[0;34m,\u001b[0m \u001b[0mp\u001b[0m \u001b[0;32min\u001b[0m \u001b[0menumerate\u001b[0m\u001b[0;34m(\u001b[0m\u001b[0mbase\u001b[0m\u001b[0;34m)\u001b[0m\u001b[0;34m:\u001b[0m\u001b[0;34m\u001b[0m\u001b[0m\n\u001b[0;32m--> 134\u001b[0;31m         \u001b[0;32mwhile\u001b[0m \u001b[0mx\u001b[0m \u001b[0;34m%\u001b[0m \u001b[0mp\u001b[0m \u001b[0;34m==\u001b[0m \u001b[0;36m0\u001b[0m\u001b[0;34m:\u001b[0m\u001b[0;34m\u001b[0m\u001b[0m\n\u001b[0m\u001b[1;32m    135\u001b[0m             \u001b[0mx\u001b[0m \u001b[0;34m//=\u001b[0m \u001b[0mp\u001b[0m\u001b[0;34m\u001b[0m\u001b[0m\n\u001b[1;32m    136\u001b[0m             \u001b[0mfactors\u001b[0m\u001b[0;34m[\u001b[0m\u001b[0mi\u001b[0m\u001b[0;34m]\u001b[0m \u001b[0;34m+=\u001b[0m \u001b[0;36m1\u001b[0m\u001b[0;34m\u001b[0m\u001b[0m\n",
      "\u001b[0;32msrc/cysignals/signals.pyx\u001b[0m in \u001b[0;36mcysignals.signals.python_check_interrupt\u001b[0;34m()\u001b[0m\n",
      "\u001b[0;32msrc/cysignals/signals.pyx\u001b[0m in \u001b[0;36mcysignals.signals.sig_raise_exception\u001b[0;34m()\u001b[0m\n",
      "\u001b[0;31mKeyboardInterrupt\u001b[0m: "
     ]
    }
   ],
   "source": [
    "pp = 10000000000000000051\n",
    "base = [-1] + prime_range(5000)\n",
    "table = %time logarithmTable(aa, pp, base, trace = True)\n",
    "%time indexCalculus(aa, bb, pp, base, table, trace = True)"
   ]
  }
 ],
 "metadata": {
  "kernelspec": {
   "display_name": "SageMath 8.3",
   "language": "",
   "name": "sagemath"
  },
  "language_info": {
   "codemirror_mode": {
    "name": "ipython",
    "version": 2
   },
   "file_extension": ".py",
   "mimetype": "text/x-python",
   "name": "python",
   "nbconvert_exporter": "python",
   "pygments_lexer": "ipython2",
   "version": "2.7.15"
  }
 },
 "nbformat": 4,
 "nbformat_minor": 2
}
