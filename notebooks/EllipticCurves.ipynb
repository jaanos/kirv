{
 "cells": [
  {
   "cell_type": "markdown",
   "metadata": {},
   "source": [
    "# Elliptic curves\n",
    "\n",
    "An elliptic curve $E$ is a set of points satisfying an equation of form\n",
    "$$\n",
    "y^2 = x^3 + ax + b,\n",
    "$$\n",
    "where $4a^3 + 27b^2 \\ne 0$,\n",
    "together with a \"point at infinity\", denoted by $\\mathcal{O}$."
   ]
  },
  {
   "cell_type": "markdown",
   "metadata": {},
   "source": [
    "Let us first draw a graph of a cubic polynomial, followed by the corresponding elliptic curve."
   ]
  },
  {
   "cell_type": "code",
   "execution_count": 1,
   "metadata": {},
   "outputs": [
    {
     "data": {
      "application/vnd.jupyter.widget-view+json": {
       "model_id": "2ae301ba74754845a3e7c0aacdad4372",
       "version_major": 2,
       "version_minor": 0
      },
      "text/plain": [
       "Interactive function <function _ at 0x7f2171260b80> with 4 widgets\n",
       "  a: TransformIntSlider(value=-2, descripti…"
      ]
     },
     "metadata": {},
     "output_type": "display_data"
    }
   ],
   "source": [
    "@interact\n",
    "def _(a=slider(-5, 5, default=-2),\n",
    "      b=slider(-5, 5, default=-2),\n",
    "      xr=range_slider(-10, 10, default=(-3, 3), label=\"x range\"),\n",
    "      yr=range_slider(-10, 10, default=(-5, 5), label=\"y range\")):\n",
    "    x, y = var('x y')\n",
    "    E = x^3 + a*x + b\n",
    "    xlim = (x, *xr)\n",
    "    ylim = (y, *yr)\n",
    "    show(plot(E, xlim))\n",
    "    show(implicit_plot(y^2 == E, xlim, ylim, frame=False, axes=True))"
   ]
  },
  {
   "cell_type": "markdown",
   "metadata": {},
   "source": [
    "Let us now demonstrate the group addition operation on the elliptic curve."
   ]
  },
  {
   "cell_type": "code",
   "execution_count": 2,
   "metadata": {},
   "outputs": [
    {
     "data": {
      "application/vnd.jupyter.widget-view+json": {
       "model_id": "32a6784fda7848a1b7b8dd189e182cdd",
       "version_major": 2,
       "version_minor": 0
      },
      "text/plain": [
       "Interactive function <function _ at 0x7f216bf055e0> with 8 widgets\n",
       "  a: TransformIntSlider(value=-2, descripti…"
      ]
     },
     "metadata": {},
     "output_type": "display_data"
    }
   ],
   "source": [
    "@interact\n",
    "def _(a=slider(-5, 5, default=-2),\n",
    "      b=slider(-5, 5, default=-2),\n",
    "      Px=slider(-10, 10, default=2),\n",
    "      Ps=slider([\"-\", \"+\"], default=\"+\", label=\"Py sign\"),\n",
    "      Qx=slider(-10, 10, default=3),\n",
    "      Qs=slider([\"-\", \"+\"], default=\"-\", label=\"Qy sign\"),\n",
    "      xr=range_slider(-10, 10, default=(-3, 3), label=\"x range\"),\n",
    "      yr=range_slider(-10, 10, default=(-5, 5), label=\"y range\")):\n",
    "    x, y = var('x y')\n",
    "    s = {\"+\": 1, \"-\": -1}\n",
    "    E = x^3 + a*x + b\n",
    "    pts = []\n",
    "    Py = s[Ps] * sqrt(E.subs(x == Px))\n",
    "    if Py.is_real():\n",
    "        pts.append((Px, Py))\n",
    "    Qy = s[Qs] * sqrt(E.subs(x == Qx))\n",
    "    if Qy.is_real():\n",
    "        pts.append((Qx, Qy))\n",
    "    xlim = (x, *xr)\n",
    "    ylim = (y, *yr)\n",
    "    p = implicit_plot(y^2 == E, xlim, ylim, frame=False, axes=True)\n",
    "    if pts:\n",
    "        p += point(pts, color=\"red\", size=50)\n",
    "    if len(pts) > 1:\n",
    "        if pts[0] == pts[1] and Py != 0:\n",
    "            lm = (3*Px^2 + a)/(2*Py)\n",
    "        elif Px != Qx:\n",
    "            lm = (Py - Qy)/(Px - Qx)\n",
    "        else:\n",
    "            pts += [(Px, yr[0]), (Px, yr[1])]\n",
    "        if len(pts) == 2:\n",
    "            Rx = lm^2 - Px - Qx\n",
    "            Ry = lm * (Px - Rx) - Py\n",
    "            R = [(Rx, Ry), (Rx, -Ry)]\n",
    "            pts.append(R[1])\n",
    "            p += point(R[0], color=\"magenta\", size=50)\n",
    "            p += point(R[1], color=\"brown\", size=50)\n",
    "            if Ry != 0:\n",
    "                p += line2d(R, color=\"cyan\")\n",
    "        p += line2d(pts, color=\"green\")\n",
    "    show(p, xmin=xr[0], xmax=xr[1], ymin=yr[0], ymax=yr[1])"
   ]
  },
  {
   "cell_type": "markdown",
   "metadata": {},
   "source": [
    "## Exercises\n",
    "\n",
    "Let us find the points on the elliptic curve $y^2 = x^3 + x + 6$ over ${\\mathbb{Z}_{11}}$."
   ]
  },
  {
   "cell_type": "code",
   "execution_count": 3,
   "metadata": {},
   "outputs": [
    {
     "data": {
      "text/plain": [
       "0"
      ]
     },
     "execution_count": 3,
     "metadata": {},
     "output_type": "execute_result"
    }
   ],
   "source": [
    "a = 10\n",
    "b = 5\n",
    "p = 17\n",
    "(4 * a^3 + 27 * b^2) % p"
   ]
  },
  {
   "cell_type": "code",
   "execution_count": 4,
   "metadata": {},
   "outputs": [
    {
     "data": {
      "text/plain": [
       "[(),\n",
       " (2, 4),\n",
       " (2, 7),\n",
       " (3, 5),\n",
       " (3, 6),\n",
       " (5, 2),\n",
       " (5, 9),\n",
       " (7, 2),\n",
       " (7, 9),\n",
       " (8, 3),\n",
       " (8, 8),\n",
       " (10, 2),\n",
       " (10, 9)]"
      ]
     },
     "execution_count": 4,
     "metadata": {},
     "output_type": "execute_result"
    }
   ],
   "source": [
    "from algorithms.ellipticCurves import points, pointSum, pointMultiply\n",
    "a, b, p = E = (1, 6, 11)\n",
    "(pts := points(E))"
   ]
  },
  {
   "cell_type": "code",
   "execution_count": 5,
   "metadata": {},
   "outputs": [
    {
     "data": {
      "text/plain": [
       "13"
      ]
     },
     "execution_count": 5,
     "metadata": {},
     "output_type": "execute_result"
    }
   ],
   "source": [
    "len(pts)"
   ]
  },
  {
   "cell_type": "code",
   "execution_count": 6,
   "metadata": {},
   "outputs": [
    {
     "data": {
      "text/plain": [
       "(3, 5)"
      ]
     },
     "execution_count": 6,
     "metadata": {},
     "output_type": "execute_result"
    }
   ],
   "source": [
    "P = (8, 3)\n",
    "Q = (3, 6)\n",
    "pointSum(P, Q, E)"
   ]
  },
  {
   "cell_type": "code",
   "execution_count": 7,
   "metadata": {},
   "outputs": [
    {
     "data": {
      "text/plain": [
       "(5, 2)"
      ]
     },
     "execution_count": 7,
     "metadata": {},
     "output_type": "execute_result"
    }
   ],
   "source": [
    "pointMultiply(5, P, E)"
   ]
  },
  {
   "cell_type": "code",
   "execution_count": 8,
   "metadata": {},
   "outputs": [
    {
     "data": {
      "text/plain": [
       "(8, 8)"
      ]
     },
     "execution_count": 8,
     "metadata": {},
     "output_type": "execute_result"
    }
   ],
   "source": [
    "P = (2, 4)\n",
    "d = 3\n",
    "(Q := pointMultiply(d, P, E))"
   ]
  },
  {
   "cell_type": "code",
   "execution_count": 9,
   "metadata": {},
   "outputs": [
    {
     "data": {
      "text/plain": [
       "(10, 9)"
      ]
     },
     "execution_count": 9,
     "metadata": {},
     "output_type": "execute_result"
    }
   ],
   "source": [
    "m = 7\n",
    "r = 4\n",
    "(R := pointMultiply(r, P, E))"
   ]
  },
  {
   "cell_type": "code",
   "execution_count": 10,
   "metadata": {},
   "outputs": [
    {
     "data": {
      "text/plain": [
       "(2, 7)"
      ]
     },
     "execution_count": 10,
     "metadata": {},
     "output_type": "execute_result"
    }
   ],
   "source": [
    "(S := pointMultiply(r, Q, E))"
   ]
  },
  {
   "cell_type": "code",
   "execution_count": 11,
   "metadata": {},
   "outputs": [
    {
     "data": {
      "text/plain": [
       "((10, 9), 3)"
      ]
     },
     "execution_count": 11,
     "metadata": {},
     "output_type": "execute_result"
    }
   ],
   "source": [
    "z = m * S[0] % p\n",
    "(c := (R, z))"
   ]
  },
  {
   "cell_type": "code",
   "execution_count": 12,
   "metadata": {},
   "outputs": [
    {
     "data": {
      "text/plain": [
       "(2, 7)"
      ]
     },
     "execution_count": 12,
     "metadata": {},
     "output_type": "execute_result"
    }
   ],
   "source": [
    "pointMultiply(d, R, E)"
   ]
  },
  {
   "cell_type": "code",
   "execution_count": 13,
   "metadata": {},
   "outputs": [
    {
     "data": {
      "text/plain": [
       "7"
      ]
     },
     "execution_count": 13,
     "metadata": {},
     "output_type": "execute_result"
    }
   ],
   "source": [
    "z * S[0]^-1 % p"
   ]
  }
 ],
 "metadata": {
  "kernelspec": {
   "display_name": "SageMath 9.2.rc2",
   "language": "sage",
   "name": "sagemath"
  },
  "language_info": {
   "codemirror_mode": {
    "name": "ipython",
    "version": 3
   },
   "file_extension": ".py",
   "mimetype": "text/x-python",
   "name": "python",
   "nbconvert_exporter": "python",
   "pygments_lexer": "ipython3",
   "version": "3.8.10"
  }
 },
 "nbformat": 4,
 "nbformat_minor": 4
}
