{
 "cells": [
  {
   "cell_type": "markdown",
   "metadata": {},
   "source": [
    "# Pohlig-Hellman algorithm\n",
    "\n",
    "We will perform the Pohlig-Hellman algorithm to compute $\\log_{a} b$ in $\\mathbf{Z}_{p}^*$, where $a = 11$, $b = 2018$, and $p = 15121$ is a prime number."
   ]
  },
  {
   "cell_type": "code",
   "execution_count": null,
   "metadata": {},
   "outputs": [],
   "source": [
    "from algorithms.factorization import totalFactorization\n",
    "from algorithms.discreteLogarithm import babyStepGiantStep\n",
    "from algorithms.modular import crt\n",
    "\n",
    "a = 11\n",
    "b = 2018\n",
    "p = 15121"
   ]
  },
  {
   "cell_type": "markdown",
   "metadata": {},
   "source": [
    "We notice that $p-1$ can be efficiently factorized. This allows the Pohlig-Hellman algorithm to break the problem into multiple smaller problems which can be solved, say, using the giant-step/baby-step algorithm."
   ]
  },
  {
   "cell_type": "code",
   "execution_count": null,
   "metadata": {},
   "outputs": [],
   "source": [
    "n = p - 1\n",
    "f = totalFactorization(n)\n",
    "f"
   ]
  },
  {
   "cell_type": "markdown",
   "metadata": {},
   "source": [
    "We now perform the main loop of the algorithm. The idea is to compute discrete logarithms with base $(p-1)/q$ for each prime power factor $q^e$ of $p-1$ which give a $q$-ary representation of the sought result modulo $q^e$."
   ]
  },
  {
   "cell_type": "code",
   "execution_count": null,
   "metadata": {},
   "outputs": [],
   "source": [
    "ai = a^-1 % p\n",
    "v = {}\n",
    "for q, e in f.items():\n",
    "    print(\"prime power factor: %d^%d\" % (q, e))\n",
    "    nq = n // q\n",
    "    ap = pow(a, nq, p)\n",
    "    print(\"a^(%d/%d) = %d\" % (n, q, ap))\n",
    "    bp, qp = b, 1\n",
    "    c, k, x = 1, 0, 0\n",
    "    for i in range(e):\n",
    "        c = c * pow(ai, k, p) % p\n",
    "        bp = pow(b*c, nq, p)\n",
    "        print(\"c_%d = c_%d * a^-k_%d = %d\" % (i, i-1, i-1, c))\n",
    "        print(\"b_%d = (b_%d*c_%d)^(%d/%d^%d) = %d\" %\n",
    "                                            (i, i-1, i, n, q, i+1, bp))\n",
    "        print(\"z = log_%d(%d) mod %d, order = %d\" % (ap, bp, p, q))\n",
    "        k = (babyStepGiantStep(ap, bp, p, order = q) % q) * qp\n",
    "        x += k\n",
    "        print(\"k_%d = z*q^%d = %d\" % (i, i, k))\n",
    "        qp *= q\n",
    "        nq //= q\n",
    "    v[qp] = x\n",
    "v"
   ]
  },
  {
   "cell_type": "markdown",
   "metadata": {},
   "source": [
    "This gives a system of congruences with pairwise coprime moduli, which can then be solved using the Chinese remainder theorem."
   ]
  },
  {
   "cell_type": "code",
   "execution_count": null,
   "metadata": {},
   "outputs": [],
   "source": [
    "x = crt(v)\n",
    "x"
   ]
  },
  {
   "cell_type": "markdown",
   "metadata": {},
   "source": [
    "Let us check that we get the correct answer."
   ]
  },
  {
   "cell_type": "code",
   "execution_count": null,
   "metadata": {},
   "outputs": [],
   "source": [
    "pow(a, x, p)"
   ]
  }
 ],
 "metadata": {
  "kernelspec": {
   "display_name": "SageMath 8.3",
   "language": "",
   "name": "sagemath"
  },
  "language_info": {
   "codemirror_mode": {
    "name": "ipython",
    "version": 2
   },
   "file_extension": ".py",
   "mimetype": "text/x-python",
   "name": "python",
   "nbconvert_exporter": "python",
   "pygments_lexer": "ipython2",
   "version": "2.7.15"
  }
 },
 "nbformat": 4,
 "nbformat_minor": 2
}
