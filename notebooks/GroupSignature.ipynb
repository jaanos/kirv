{
 "cells": [
  {
   "cell_type": "markdown",
   "metadata": {},
   "source": [
    "# ACJT2000 group signature scheme\n",
    "\n",
    "We present the group signature scheme given by Ateniese, Camenisch, Joye and Tsudik in their paper [*A Practical and Provably Secure Coalition-Resistant Group Signature Scheme*](https://www.ics.uci.edu/~gts/paps/acjt00.pdf).\n",
    "\n",
    "Let us first give some auxiliary functions."
   ]
  },
  {
   "cell_type": "code",
   "execution_count": 1,
   "metadata": {},
   "outputs": [],
   "source": [
    "from algorithms.euclidean import gcd, inverse\n",
    "\n",
    "def safe_prime(n):\n",
    "    \"\"\"\n",
    "    Return a safe prime p in [n/2, n],\n",
    "    i.e., such that (p-1)/2 is also a prime.\n",
    "    \"\"\"\n",
    "    while True:\n",
    "        p = random_prime(n, lbound=n/2)\n",
    "        if Integer((p-1)/2).is_prime():\n",
    "            return p\n",
    "\n",
    "def is_QRroot(a, n):\n",
    "    \"\"\"\n",
    "    Assuming n = pq,\n",
    "    return True if a^2 has order (p-1)(q-1)/4.\n",
    "    \"\"\"\n",
    "    return gcd(a+1, n) == 1 and gcd(a-1, n) == 1\n",
    "\n",
    "def is_QR(a, p, q):\n",
    "    \"\"\"\n",
    "    Return True if a is a quadratic residue\n",
    "    modulo n = (2*p+1) * (2*q+1) of order p*q.\n",
    "    \"\"\"\n",
    "    n = (2*p+1) * (2*q+1)\n",
    "    return is_QRroot(a, n) and pow(a, p*q, n) == 1\n",
    "\n",
    "def find_QR(n):\n",
    "    \"\"\"\n",
    "    Assuming n = pq, where p and q are safe primes,\n",
    "    find an element of order (p-1)(q-1)/4.\n",
    "    \"\"\"\n",
    "    while True:\n",
    "        a = randint(2, n-2)\n",
    "        if is_QRroot(a, n):\n",
    "            return Integer(a^2 % n)\n",
    "\n",
    "def find_element(n):\n",
    "    \"\"\"\n",
    "    Find an element in Z^*_n.\n",
    "    \"\"\"\n",
    "    while True:\n",
    "        x = randint(2, n-1)\n",
    "        if gcd(x, n) == 1:\n",
    "            return Integer(x)"
   ]
  },
  {
   "cell_type": "markdown",
   "metadata": {},
   "source": [
    "## Scheme parameters\n",
    "\n",
    "Let us now set the scheme parameters."
   ]
  },
  {
   "cell_type": "code",
   "execution_count": 2,
   "metadata": {},
   "outputs": [],
   "source": [
    "class ACJTParams:\n",
    "    \"\"\"\n",
    "    A class for parameters of the ACJT group signature scheme.\n",
    "    \"\"\"\n",
    "\n",
    "    def __init__(self, H, e, k, lp, lm1=None, lm2=None, gm1=None, gm2=None):\n",
    "        \"\"\"\n",
    "        Object constructor.\n",
    "        \"\"\"\n",
    "        self.H = H\n",
    "        self.e = e\n",
    "        self.k = k\n",
    "        self.lp = lp\n",
    "        llm2 = 4 * self.lp\n",
    "        if lm2 is None:\n",
    "            self.lm2 = llm2 + 1\n",
    "        else:\n",
    "            assert lm2 > llm2\n",
    "            self.lm2 = lm2\n",
    "        llm1 = self.e * (self.lm2 + self.k) + 2\n",
    "        if lm1 is None:\n",
    "            self.lm1 = floor(llm1) + 1\n",
    "        else:\n",
    "            assert lm1 > llm1\n",
    "            self.lm1 = lm1\n",
    "        lgm2 = self.lm1 + 2\n",
    "        if gm2 is None:\n",
    "            self.gm2 = lgm2 + 1\n",
    "        else:\n",
    "            assert gm2 > lgm2\n",
    "            self.gm2 = gm2\n",
    "        lgm1 = self.e * (self.gm2 + self.k) + 2\n",
    "        if gm1 is None:\n",
    "            self.gm1 = floor(lgm1) + 1\n",
    "        else:\n",
    "            assert gm1 > lgm1\n",
    "            self.gm1 = gm1\n",
    "\n",
    "        self.pgm1 = 2 ^ self.gm1\n",
    "        self.pgm2 = 2 ^ self.gm2\n",
    "        self.plm1 = 2 ^ self.lm1\n",
    "        self.plm2 = 2 ^ self.lm2\n",
    "        self.plp = 2 ^ self.lp\n",
    "        self.pg1 = 2 ^ ceil(self.e * (self.gm1 + 2*self.lp + self.k + 1))\n",
    "        self.pg2 = 2 ^ ceil(self.e * (self.gm2 + self.k))\n",
    "        self.pl2 = 2 ^ ceil(self.e * (self.lm2 + self.k))\n",
    "        self.plk = 2 ^ ceil(self.e * (2*self.lp + self.k))\n",
    "\n",
    "    def prove_discrete_log(self, values, bases, logs, n, lm=None, X=0):\n",
    "        \"\"\"\n",
    "        Provide a zero-knowledge proof of the fact that\n",
    "        the values can be expressed as a product of the elements in bases\n",
    "        raised to the corresponding exponents in logs modulo n.\n",
    "        \"\"\"\n",
    "        assert len(values) == len(bases)\n",
    "        assert all(len(bb) == len(logs) for bb in bases)\n",
    "        assert all(v == prod(pow(b, x, n) for b, x in zip(bb, logs)) % n for v, bb in zip(values, bases))\n",
    "        if lm is None:\n",
    "            lm = 4 * self.lp\n",
    "        l = 2^(ceil(self.e * (lm + self.k))) - 1\n",
    "        tt = [randint(-l, l) for _ in logs]\n",
    "        c = self.H(*sum([[v, prod(pow(b, t, n) for b, t in zip(bb, tt)) % n] + bb for v, bb in zip(values, bases)], []))\n",
    "        return (c, ) + tuple(t - c*(x-X) for t, x in zip(tt, logs))\n",
    "\n",
    "    def verify_discrete_log(self, values, bases, proof, n, lm=None, X=0):\n",
    "        \"\"\"\n",
    "        Verify the proof of the discrete logarithm.\n",
    "        \"\"\"\n",
    "        assert len(values) == len(bases)\n",
    "        assert all(len(bb) + 1 == len(proof) for bb in bases)\n",
    "        if lm is None:\n",
    "            lm = 4 * self.lp\n",
    "        l = 2^(ceil(self.e * (lm + self.k)) + 1) - 1\n",
    "        c = proof[0]\n",
    "        ss = proof[1:]\n",
    "        return all(-l <= s <= l for s in ss) and \\\n",
    "            c == self.H(*sum([[v, prod(pow(b, s - c*X, n) for b, s in zip(bb, ss)) * pow(v, c, n) % n] + bb\n",
    "                              for v, bb in zip(values, bases)], []))\n",
    "\n",
    "    def verify(self, pubkey, m, sig):\n",
    "        \"\"\"\n",
    "        Verify the signature of the given message.\n",
    "        \"\"\"\n",
    "        n, a, a0, y, g, h = pubkey\n",
    "        c, s1, s2, s3, s4, T1, T2, T3 = sig\n",
    "        return -2*self.pg2 < s1 < 2*self.pg2 and -2*self.pl2 < s2 < 2*self.pl2 and \\\n",
    "            -2*self.pg1 < s3 < 2*self.pg1 and -2*self.plk < s4 < 2*self.plk and \\\n",
    "            c == self.H(g, h, y, a0, a, T1, T2, T3,\n",
    "                        Integer(pow(a0, c, n) * pow(T1, s1 - c * self.pgm1, n) /\n",
    "                                (pow(a, s2 - c * self.plm1, n) * pow(y, s3, n)) % n),\n",
    "                        Integer(pow(T2, s1 - c * self.pgm1, n) / pow(g, s3, n) % n),\n",
    "                        Integer(pow(T2, c, n) * pow(g, s4, n) % n),\n",
    "                        Integer(pow(T3, c, n) * pow(g, s1 - c * self.pgm1, n) * pow(h, s4, n) % n), m)\n",
    "\n",
    "    def verify_opening(self, pubkey, m, sig, A, proof):\n",
    "        \"\"\"\n",
    "        Verify that the signer has been correctly identified.\n",
    "        \"\"\"\n",
    "        assert self.verify(pubkey, m, sig)\n",
    "        n, a, a0, y, g, h = pubkey\n",
    "        c, s1, s2, s3, s4, T1, T2, T3 = sig\n",
    "        return self.verify_discrete_log([y, T1 / A % n], [[g], [T2]], proof, n)"
   ]
  },
  {
   "cell_type": "code",
   "execution_count": 3,
   "metadata": {},
   "outputs": [],
   "source": [
    "import hashlib\n",
    "\n",
    "def H(*largs):\n",
    "    \"\"\"\n",
    "    Compute the MD5 hash of the input as an integer.\n",
    "    \"\"\"\n",
    "    return Integer(hashlib.md5(\"%s\" % list(largs)).hexdigest(), 16)\n",
    "\n",
    "pars = ACJTParams(H, 1.1, 128, 128)"
   ]
  },
  {
   "cell_type": "markdown",
   "metadata": {},
   "source": [
    "## Key generation\n",
    "\n",
    "George, the group manager, can now generate his secret key together with the group public key."
   ]
  },
  {
   "cell_type": "code",
   "execution_count": 4,
   "metadata": {},
   "outputs": [],
   "source": [
    "class ACJTJoinTranscript:\n",
    "    \"\"\"\n",
    "    A class representing an ACJT join protocol transcript.\n",
    "    \"\"\"\n",
    "    pass\n",
    "\n",
    "class ACJTGroupManager:\n",
    "    \"\"\"\n",
    "    A class representing the ACJT group manager.\n",
    "    \"\"\"\n",
    "\n",
    "    def __init__(self, pars):\n",
    "        \"\"\"\n",
    "        Object constructor.\n",
    "        \"\"\"\n",
    "        self.pars = pars\n",
    "        p = safe_prime(self.pars.plp)\n",
    "        q = safe_prime(self.pars.plp)\n",
    "        self.p = (p-1)/2\n",
    "        self.q = (q-1)/2\n",
    "        self.n = p * q\n",
    "        self.a = find_QR(self.n)\n",
    "        self.a0 = find_QR(self.n)\n",
    "        self.g = find_QR(self.n)\n",
    "        self.h = find_QR(self.n)\n",
    "        self.x = find_element(self.p * self.q)\n",
    "        self.y = Integer(pow(self.g, self.x, self.n))\n",
    "        self.members = {}\n",
    "        self.certificates = {}\n",
    "\n",
    "    def public_key(self):\n",
    "        \"\"\"\n",
    "        Return the group public key.\n",
    "        \"\"\"\n",
    "        return (self.n, self.a, self.a0, self.y, self.g, self.h)\n",
    "\n",
    "    def secret_key(self):\n",
    "        \"\"\"\n",
    "        Return the group manager's secret key.\n",
    "        \"\"\"\n",
    "        return (self.p, self.q, self.x)\n",
    "\n",
    "    def join_init(self, name, msg):\n",
    "        \"\"\"\n",
    "        Respond to joining initiation.\n",
    "        \"\"\"\n",
    "        assert name not in self.members\n",
    "        client = self.members[name] = ACJTJoinTranscript()\n",
    "        client.C1, client.C1_proof1 = msg\n",
    "        assert is_QR(client.C1, self.p, self.q)\n",
    "        assert self.pars.verify_discrete_log([client.C1], [[self.g, self.h]], client.C1_proof1, self.n)\n",
    "        client.alpha = Integer(randint(1, self.pars.plm2 - 1))\n",
    "        client.beta = Integer(randint(1, self.pars.plm2 - 1))\n",
    "        return (client.alpha, client.beta)\n",
    "\n",
    "    def join_gen(self, name, msg):\n",
    "        \"\"\"\n",
    "        Generate the group member's exponent.\n",
    "        \"\"\"\n",
    "        client = self.members[name]\n",
    "        client.C2, client.C2_proof1, client.C2_proof2, client.C1_proof2 = msg\n",
    "        assert is_QR(client.C2, self.p, self.q)\n",
    "        assert self.pars.verify_discrete_log([client.C2], [[self.a]], client.C2_proof1, self.n,\n",
    "                                             self.pars.lm2, self.pars.plm1)\n",
    "        assert self.pars.verify_discrete_log([Integer(client.C2 / pow(self.a, self.pars.plm1, self.n) % self.n)],\n",
    "                                             [[self.a]], client.C2_proof2, self.n, self.pars.lm2)\n",
    "        assert self.pars.verify_discrete_log([Integer(pow(client.C1, client.alpha, self.n) *\n",
    "                                                      pow(self.g, client.beta, self.n) % self.n)],\n",
    "                                             [[self.g, self.h]], client.C1_proof2, self.n, 2 * self.pars.lm2 + 1)\n",
    "        client.e = random_prime(self.pars.pgm1 + self.pars.pgm2 - 1, lbound=self.pars.pgm1 - self.pars.pgm2 + 1)\n",
    "        d = inverse(client.e, 4 * self.p * self.q)\n",
    "        client.A = Integer(pow(client.C2 * self.a0, d, self.n))\n",
    "        self.certificates[client.A] = name\n",
    "        return (client.A, client.e)\n",
    "\n",
    "    def open(self, m, sig):\n",
    "        \"\"\"\n",
    "        Identify the signer of the signature sig to the message m.\n",
    "        \"\"\"\n",
    "        assert self.pars.verify(self.public_key(), m, sig)\n",
    "        c, s1, s2, s3, s4, T1, T2, T3 = sig\n",
    "        A = Integer(T1 / pow(T2, self.x, self.n) % self.n)\n",
    "        proof = self.pars.prove_discrete_log([self.y, T1 / A % self.n], [[self.g], [T2]], [self.x], self.n)\n",
    "        return (self.certificates[A], A, proof)\n",
    "        "
   ]
  },
  {
   "cell_type": "code",
   "execution_count": 5,
   "metadata": {},
   "outputs": [
    {
     "name": "stdout",
     "output_type": "stream",
     "text": [
      "Public key: (48752383569372781142179077891223791805566417844967383456604147865028689893521, 8784518326656962296441164723311076927317891516529277255771403524637626238121, 48565132551605088931120445197806080634109774219181087444748537528353370549533, 13596766191053589374927429285386846485733124217017277834532851010238133243335, 10645638839042559737305974437628969558943760323557740660522035849511242219602, 12028669766907673160645481306630038112263705279145149236394871092561759051105)\n",
      "Secret key: (91052685114734783791970726488410028199, 133857621848109915527416916190455681039, 9371451885282338936378840407923812328926093446744871770554154869925480206419)\n"
     ]
    }
   ],
   "source": [
    "set_random_seed(0)\n",
    "george = ACJTGroupManager(pars)\n",
    "print(\"Public key: {}\".format(george.public_key()))\n",
    "print(\"Secret key: {}\".format(george.secret_key()))"
   ]
  },
  {
   "cell_type": "markdown",
   "metadata": {},
   "source": [
    "Note that the group manager should also provide a proof that $n$ really is a product of two safe primes, see [Camenisch & Michels](http://www.brics.dk/RS/98/29/BRICS-RS-98-29.pdf).\n",
    "\n",
    "## Joining the group\n",
    "\n",
    "Alice now wants to join the group. She performs the following protocol with George over an authenticated and encrypted channel."
   ]
  },
  {
   "cell_type": "code",
   "execution_count": 6,
   "metadata": {},
   "outputs": [],
   "source": [
    "class ACJTGroupMember:\n",
    "    \"\"\"\n",
    "    A class representing a group member.\n",
    "    \"\"\"\n",
    "\n",
    "    def __init__(self, name, gm):\n",
    "        \"\"\"\n",
    "        Object constructor.\n",
    "        \"\"\"\n",
    "        self.name = name\n",
    "        self.pars = gm.pars\n",
    "        self.n, self.a, self.a0, self.y, self.g, self.h = gm.public_key()\n",
    "\n",
    "    def join_init(self):\n",
    "        \"\"\"\n",
    "        Initiate group joining.\n",
    "        \"\"\"\n",
    "        self.xx = Integer(randint(1, self.pars.plm2 - 1))\n",
    "        self.r = Integer(randint(1, self.n^2 - 1))\n",
    "        self.C1 = Integer(pow(self.g, self.xx, self.n) * pow(self.h, self.r, self.n) % self.n)\n",
    "        C1_proof1 = self.pars.prove_discrete_log([self.C1], [[self.g, self.h]], [self.xx, self.r], self.n)\n",
    "        return (self.C1, C1_proof1)\n",
    "\n",
    "    def join_gen(self, msg):\n",
    "        \"\"\"\n",
    "        Generate personal private key.\n",
    "        \"\"\"\n",
    "        self.alpha, self.beta = msg\n",
    "        assert 1 <= self.alpha < self.pars.plm2\n",
    "        assert 1 <= self.beta < self.pars.plm2\n",
    "        self.x = self.pars.plm1 + (self.alpha * self.xx + self.beta) % self.pars.plm2\n",
    "        self.C2 = Integer(pow(self.a, self.x, self.n))\n",
    "        C2_proof1 = self.pars.prove_discrete_log([self.C2], [[self.a]], [self.x], self.n, self.pars.lm2, self.pars.plm1)\n",
    "        C2_proof2 = self.pars.prove_discrete_log([Integer(self.C2 / pow(self.a, self.pars.plm1, self.n) % self.n)],\n",
    "                                                 [[self.a]], [self.x - self.pars.plm1], self.n, self.pars.lm2)\n",
    "        C1_proof2 = self.pars.prove_discrete_log([Integer(pow(self.C1, self.alpha, self.n) *\n",
    "                                                          pow(self.g, self.beta, self.n) % self.n)], [[self.g, self.h]],\n",
    "                                                 [self.alpha * self.xx + self.beta, self.alpha * self.r],\n",
    "                                                 self.n, 2 * self.pars.lm2 + 1)\n",
    "        return (self.C2, C2_proof1, C2_proof2, C1_proof2)\n",
    "\n",
    "    def join_verify(self, msg):\n",
    "        \"\"\"\n",
    "        Verify the correctness of the exponent.\n",
    "        \"\"\"\n",
    "        self.A, self.e = msg\n",
    "        return pow(self.a, self.x, self.n) * self.a0 % self.n == pow(self.A, self.e, self.n)\n",
    "\n",
    "    def sign(self, m):\n",
    "        \"\"\"\n",
    "        Produce a group signature of the message m.\n",
    "        \"\"\"\n",
    "        w = Integer(randint(0, self.pars.plp^2 - 1))\n",
    "        T1 = Integer(self.A * pow(self.y, w, self.n) % self.n)\n",
    "        T2 = Integer(pow(self.g, w, self.n))\n",
    "        T3 = Integer(pow(self.g, self.e, self.n) * pow(self.h, w, self.n) % self.n)\n",
    "        r1 = Integer(randint(-self.pars.pg2+1, self.pars.pg2-1))\n",
    "        r2 = Integer(randint(-self.pars.pl2+1, self.pars.pl2-1))\n",
    "        r3 = Integer(randint(-self.pars.pg1+1, self.pars.pg1-1))\n",
    "        r4 = Integer(randint(-self.pars.plk+1, self.pars.plk-1))\n",
    "        d1 = Integer(pow(T1, r1, self.n) / (pow(self.a, r2, self.n) * pow(self.y, r3, self.n)) % self.n)\n",
    "        d2 = Integer(pow(T2, r1, self.n) / pow(self.g, r3, self.n) % self.n)\n",
    "        d3 = Integer(pow(self.g, r4, self.n))\n",
    "        d4 = Integer(pow(self.g, r1, self.n) * pow(self.h, r4, self.n) % self.n)\n",
    "        c = H(self.g, self.h, self.y, self.a0, self.a, T1, T2, T3, d1, d2, d3, d4, m)\n",
    "        s1 = r1 - c * (self.e - self.pars.pgm1)\n",
    "        s2 = r2 - c * (self.x - self.pars.plm1)\n",
    "        s3 = r3 - c * self.e * w\n",
    "        s4 = r4 - c * w\n",
    "        return (c, s1, s2, s3, s4, T1, T2, T3)"
   ]
  },
  {
   "cell_type": "code",
   "execution_count": 7,
   "metadata": {},
   "outputs": [
    {
     "name": "stdout",
     "output_type": "stream",
     "text": [
      "Alice sends (7713799066817477627621790668046437317857658926726478236741640837112068754213, (77755747178974531292389754396990216202, -2008412319889195946403562232435090565774008903234758828501747329791260329441296290983753050695355122443344175361798924345292673754314190267888370196740387645760489849658112682405565326383586735955394281419168364, -15221159557435690286536924007241745915016060472611695465414598120899966596780816293988326707329760486978118387268514457543141975601694824107762848869635097830410424204139914464391267775810284178911022943340763522)) to George\n"
     ]
    }
   ],
   "source": [
    "alice = ACJTGroupMember(\"Alice\", george)\n",
    "alice_join_send1 = alice.join_init()\n",
    "print(\"Alice sends {} to George\".format(alice_join_send1))"
   ]
  },
  {
   "cell_type": "code",
   "execution_count": 8,
   "metadata": {},
   "outputs": [
    {
     "name": "stdout",
     "output_type": "stream",
     "text": [
      "George sends (13455168328199831597949289111737334553417718624882493084174415134789954260795946652970833867525607355369552341148464378007010368296948746471520420799828080, 22495875502176005094476696303685629867148975716086414152206603676829910224426026279593998682793188002474525484438385690952233517062205893285072365644649466) to Alice\n"
     ]
    }
   ],
   "source": [
    "alice_join_recv1 = george.join_init(alice.name, alice_join_send1)\n",
    "print(\"George sends {} to Alice\".format(alice_join_recv1))"
   ]
  },
  {
   "cell_type": "code",
   "execution_count": 9,
   "metadata": {},
   "outputs": [
    {
     "name": "stdout",
     "output_type": "stream",
     "text": [
      "Alice sends (19467306055914025686953483685420379095424650722300471977890610955755625096852, (300940471491687269862456285739428572454, 279840220327883534706102219081413628176834003456221524417956107347186985161521635142588591156216388851580607695140867256956314041616421590970125271836589337991424615288967846141537527999213587655129145882396058958), (214566165005767921780255890943108188839, 131414852159400697690848822811229433199782102406913016658351005501283229313452823888358144693450767353872875956312059555009175319163595691603707825235783537237661191101241530458449828298731170915712059571525245669), (289675883128256859737979127963375558412, 26341909038033294917226066162329038849675965353187655816584964503693495660899182163700376843970177979928733690959385446556767942242188895120097569387344408958736044377099816211538384031767760464898413385629790269136412292194920791113935142521109682530418183253818807834317730631321939205582292770612470870326736748633000880184403337944842980631758795455855891388543028616599088891148, -37751138802747598552385016705008304596711788739848212023429662710791105968933993316383453813857451065303966069674849404227774775508673497151555577327627242977191793877667266720004594345904442856409337783028413966639783014330766658555772319046066996168665285504203297748878268132489108294414168430767560348259847732807802198909386786648403616271117682879999594605123433938092546546703)) to George\n"
     ]
    }
   ],
   "source": [
    "alice_join_send2 = alice.join_gen(alice_join_recv1)\n",
    "print(\"Alice sends {} to George\".format(alice_join_send2))"
   ]
  },
  {
   "cell_type": "code",
   "execution_count": 10,
   "metadata": {},
   "outputs": [
    {
     "name": "stdout",
     "output_type": "stream",
     "text": [
      "George sends (30188073327440716637789012688357647356724246835112042964232812697825408393322, 283625966735416996535885333662014114404918709117773906527666446557161513697116645635100557222165608059666024775903947307027612536349376392949552402353085683438429330182528554791581908055207389145353008160019999881226082428572834755940758377065565138390238100850894456113476462747) to Alice\n"
     ]
    }
   ],
   "source": [
    "alice_join_recv2 = george.join_gen(alice.name, alice_join_send2)\n",
    "print(\"George sends {} to Alice\".format(alice_join_recv2))"
   ]
  },
  {
   "cell_type": "code",
   "execution_count": 11,
   "metadata": {},
   "outputs": [
    {
     "data": {
      "text/plain": [
       "True"
      ]
     },
     "execution_count": 11,
     "metadata": {},
     "output_type": "execute_result"
    }
   ],
   "source": [
    "alice.join_verify(alice_join_recv2)"
   ]
  },
  {
   "cell_type": "markdown",
   "metadata": {},
   "source": [
    "## Signing\n",
    "\n",
    "Alice can now sign a message $m$ on behalf of the group."
   ]
  },
  {
   "cell_type": "code",
   "execution_count": 12,
   "metadata": {},
   "outputs": [
    {
     "data": {
      "text/plain": [
       "(260457514774577244755712043838423974096,\n",
       " 4135155045291224870901429600942613801550264951398379921079061118231592191164978440499488815013959675411485844823925564132192509881543321220048090940913270007601181603065736295308148826572718027591518738975871311377496251642710229213332981172802735624794331319560970433582142927,\n",
       " -164332914512819192035610482809959997291333443954334217585867503606724603536591289388911764285563524425820754808912085256781994271580252072702772813173691206640750637561376055703114748387254240169496552875639410677,\n",
       " 79089455668935931831539437250720543813698869543275721945172694534013614783857668760899597088092285761638829031598822638969625427342710332729837675195271744822095183349991533472913778064441477747270517697476739318422205437679900875358190746774560799534241693609446579019417135668795298597811585235407927343705881412776944847847524894761058316047794546152323987810420481198376698958681283423386157647351423847301286619295294442153023128,\n",
       " -18604418789085881200527081028936694914530117152870489737500673081095404728822053598099993940689526084504696529346357717913018194,\n",
       " 31872658493455192403235232183152309778419452796462295571789976205921938841045,\n",
       " 14926476881045720327634229679394950254437346694081282577528215667279361376114,\n",
       " 48286396844402469251370670151218518334320385792511225536697085969956902666253)"
      ]
     },
     "execution_count": 12,
     "metadata": {},
     "output_type": "execute_result"
    }
   ],
   "source": [
    "m = 2\n",
    "sig = alice.sign(m)\n",
    "sig"
   ]
  },
  {
   "cell_type": "markdown",
   "metadata": {},
   "source": [
    "## Verifying\n",
    "\n",
    "Anyone in possession of the group public key can verify that the signature was created by a group member."
   ]
  },
  {
   "cell_type": "code",
   "execution_count": 13,
   "metadata": {},
   "outputs": [
    {
     "data": {
      "text/plain": [
       "True"
      ]
     },
     "execution_count": 13,
     "metadata": {},
     "output_type": "execute_result"
    }
   ],
   "source": [
    "pars.verify(george.public_key(), m, sig)"
   ]
  },
  {
   "cell_type": "markdown",
   "metadata": {},
   "source": [
    "## Opening\n",
    "\n",
    "Only the group manager can identify the signer."
   ]
  },
  {
   "cell_type": "code",
   "execution_count": 14,
   "metadata": {},
   "outputs": [
    {
     "data": {
      "text/plain": [
       "('Alice',\n",
       " 30188073327440716637789012688357647356724246835112042964232812697825408393322,\n",
       " (181850837952151489639667228294690128467,\n",
       "  -11395307847168727889086732340295767621786653419611670461470417536577078766982008331244857184858107974094588407451222268885595196732467751405163223992751671537805368569838060438342407691332895046262164523092566723))"
      ]
     },
     "execution_count": 14,
     "metadata": {},
     "output_type": "execute_result"
    }
   ],
   "source": [
    "signer, A, proof = george.open(m, sig)\n",
    "(signer, A, proof)"
   ]
  },
  {
   "cell_type": "markdown",
   "metadata": {},
   "source": [
    "Anyone can now verify that the signer was correctly identified."
   ]
  },
  {
   "cell_type": "code",
   "execution_count": 15,
   "metadata": {},
   "outputs": [
    {
     "data": {
      "text/plain": [
       "True"
      ]
     },
     "execution_count": 15,
     "metadata": {},
     "output_type": "execute_result"
    }
   ],
   "source": [
    "pars.verify_opening(george.public_key(), m, sig, A, proof)"
   ]
  }
 ],
 "metadata": {
  "kernelspec": {
   "display_name": "SageMath 8.3",
   "language": "",
   "name": "sagemath"
  },
  "language_info": {
   "codemirror_mode": {
    "name": "ipython",
    "version": 2
   },
   "file_extension": ".py",
   "mimetype": "text/x-python",
   "name": "python",
   "nbconvert_exporter": "python",
   "pygments_lexer": "ipython2",
   "version": "2.7.15"
  }
 },
 "nbformat": 4,
 "nbformat_minor": 2
}
