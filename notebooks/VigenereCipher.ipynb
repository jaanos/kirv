{
 "cells": [
  {
   "cell_type": "markdown",
   "metadata": {},
   "source": [
    "# The Vigenère cipher\n",
    "\n",
    "Let us write some algorithms to deal with the Vigenère cipher."
   ]
  },
  {
   "cell_type": "code",
   "execution_count": 1,
   "metadata": {},
   "outputs": [],
   "source": [
    "from itertools import cycle\n",
    "\n",
    "def encode(s):\n",
    "    return tuple(ord(c) - 65 for c in s)\n",
    "\n",
    "def decode(t):\n",
    "    return ''.join(chr(n + 65) for n in t)\n",
    "\n",
    "def encrypt(plaintext, key):\n",
    "    return decode((p + k) % 26 for p, k in zip(encode(plaintext), cycle(encode(key))))\n",
    "\n",
    "def decrypt(ciphertext, key):\n",
    "    return decode((c - k) % 26 for c, k in zip(encode(ciphertext), cycle(encode(key))))\n",
    "\n",
    "def index_of_coincidence(s):\n",
    "    d = {}\n",
    "    for c in s:\n",
    "        d.setdefault(c, 0)\n",
    "        d[c] += 1\n",
    "    l = len(s)\n",
    "    return sum(n * (n-1) for n in d.values()) / (l * (l-1))"
   ]
  },
  {
   "cell_type": "markdown",
   "metadata": {},
   "source": [
    "Let us encrypt a sample message."
   ]
  },
  {
   "cell_type": "code",
   "execution_count": 2,
   "metadata": {},
   "outputs": [
    {
     "data": {
      "text/plain": [
       "'QACGCRFEI'"
      ]
     },
     "execution_count": 2,
     "metadata": {},
     "output_type": "execute_result"
    }
   ],
   "source": [
    "p = 'LJUBLJANA'\n",
    "k = 'FRI'\n",
    "c = encrypt(p, k)\n",
    "c"
   ]
  },
  {
   "cell_type": "markdown",
   "metadata": {},
   "source": [
    "We now compare the indices of coincidence for the plaintext and the ciphertext."
   ]
  },
  {
   "cell_type": "code",
   "execution_count": 3,
   "metadata": {},
   "outputs": [
    {
     "data": {
      "text/plain": [
       "0.08333333333333333"
      ]
     },
     "execution_count": 3,
     "metadata": {},
     "output_type": "execute_result"
    }
   ],
   "source": [
    "index_of_coincidence(p)"
   ]
  },
  {
   "cell_type": "code",
   "execution_count": 4,
   "metadata": {},
   "outputs": [
    {
     "data": {
      "text/plain": [
       "0.027777777777777776"
      ]
     },
     "execution_count": 4,
     "metadata": {},
     "output_type": "execute_result"
    }
   ],
   "source": [
    "index_of_coincidence(c)"
   ]
  },
  {
   "cell_type": "markdown",
   "metadata": {},
   "source": [
    "Note that the index of coincidence does not change when a Caesar cipher is used."
   ]
  },
  {
   "cell_type": "code",
   "execution_count": 5,
   "metadata": {},
   "outputs": [
    {
     "data": {
      "text/plain": [
       "'NLWDNLCPC'"
      ]
     },
     "execution_count": 5,
     "metadata": {},
     "output_type": "execute_result"
    }
   ],
   "source": [
    "cc = encrypt(p, 'C')\n",
    "cc"
   ]
  },
  {
   "cell_type": "code",
   "execution_count": 6,
   "metadata": {},
   "outputs": [
    {
     "data": {
      "text/plain": [
       "0.08333333333333333"
      ]
     },
     "execution_count": 6,
     "metadata": {},
     "output_type": "execute_result"
    }
   ],
   "source": [
    "index_of_coincidence(cc)"
   ]
  },
  {
   "cell_type": "markdown",
   "metadata": {},
   "source": [
    "## Sample ciphertext\n",
    "\n",
    "Let us now examine the following ciphertext. Using the Kasiski test, we have determined that the most likely key length is $3$."
   ]
  },
  {
   "cell_type": "code",
   "execution_count": 7,
   "metadata": {},
   "outputs": [],
   "source": [
    "ciphertext = \"NKASFBBYIYPWZCWTBIYKPFKUFKBJIANKABYIYPWZJMJ\""
   ]
  },
  {
   "cell_type": "code",
   "execution_count": 8,
   "metadata": {},
   "outputs": [
    {
     "data": {
      "text/plain": [
       "0.058693244739756366"
      ]
     },
     "execution_count": 8,
     "metadata": {},
     "output_type": "execute_result"
    }
   ],
   "source": [
    "index_of_coincidence(ciphertext)"
   ]
  },
  {
   "cell_type": "markdown",
   "metadata": {},
   "source": [
    "We now break the ciphertext into what we expect to be three Caesar-encrypted sub-ciphertexts."
   ]
  },
  {
   "cell_type": "code",
   "execution_count": 9,
   "metadata": {},
   "outputs": [
    {
     "data": {
      "text/plain": [
       "['NSBYZTYFFJNBYZJ', 'KFYPCBKKKIKYPJ', 'ABIWWIPUBAAIWM']"
      ]
     },
     "execution_count": 9,
     "metadata": {},
     "output_type": "execute_result"
    }
   ],
   "source": [
    "C = [ciphertext[i::3] for i in range(3)]\n",
    "C"
   ]
  },
  {
   "cell_type": "code",
   "execution_count": 10,
   "metadata": {},
   "outputs": [
    {
     "data": {
      "text/plain": [
       "[0.0761904761904762, 0.13186813186813187, 0.10989010989010989]"
      ]
     },
     "execution_count": 10,
     "metadata": {},
     "output_type": "execute_result"
    }
   ],
   "source": [
    "[index_of_coincidence(y) for y in C]"
   ]
  },
  {
   "cell_type": "markdown",
   "metadata": {},
   "source": [
    "Let us now compute the indices of coincidence we obtain when concatenating one of these strings with each Caesar-encryption of each of the other two. We list the offsets sorted by the index of coincidence."
   ]
  },
  {
   "cell_type": "code",
   "execution_count": 11,
   "metadata": {},
   "outputs": [
    {
     "data": {
      "text/plain": [
       "[(0.09359605911330049, 23),\n",
       " (0.09113300492610837, 11),\n",
       " (0.08866995073891626, 12),\n",
       " (0.08374384236453201, 9),\n",
       " (0.07881773399014778, 17),\n",
       " (0.07881773399014778, 5),\n",
       " (0.07881773399014778, 1),\n",
       " (0.07881773399014778, 0),\n",
       " (0.07389162561576355, 10),\n",
       " (0.07142857142857142, 18),\n",
       " (0.06896551724137931, 22),\n",
       " (0.06896551724137931, 6),\n",
       " (0.0665024630541872, 15),\n",
       " (0.0665024630541872, 4),\n",
       " (0.0665024630541872, 3),\n",
       " (0.06403940886699508, 25),\n",
       " (0.06403940886699508, 19),\n",
       " (0.06403940886699508, 16),\n",
       " (0.06403940886699508, 14),\n",
       " (0.06403940886699508, 2),\n",
       " (0.06157635467980296, 7),\n",
       " (0.05665024630541872, 8),\n",
       " (0.054187192118226604, 21),\n",
       " (0.05172413793103448, 13),\n",
       " (0.04926108374384237, 24),\n",
       " (0.04926108374384237, 20)]"
      ]
     },
     "execution_count": 11,
     "metadata": {},
     "output_type": "execute_result"
    }
   ],
   "source": [
    "sorted(((index_of_coincidence(C[0] + decrypt(C[1], chr(65+i))), i) for i in range(26)), reverse=True)"
   ]
  },
  {
   "cell_type": "code",
   "execution_count": 12,
   "metadata": {},
   "outputs": [
    {
     "data": {
      "text/plain": [
       "[(0.09359605911330049, 21),\n",
       " (0.08620689655172414, 3),\n",
       " (0.08374384236453201, 2),\n",
       " (0.0812807881773399, 17),\n",
       " (0.07881773399014778, 25),\n",
       " (0.07881773399014778, 13),\n",
       " (0.07881773399014778, 9),\n",
       " (0.07635467980295567, 7),\n",
       " (0.07142857142857142, 10),\n",
       " (0.0665024630541872, 24),\n",
       " (0.0665024630541872, 14),\n",
       " (0.06403940886699508, 22),\n",
       " (0.06157635467980296, 23),\n",
       " (0.06157635467980296, 1),\n",
       " (0.05665024630541872, 16),\n",
       " (0.05665024630541872, 15),\n",
       " (0.05665024630541872, 8),\n",
       " (0.054187192118226604, 18),\n",
       " (0.054187192118226604, 11),\n",
       " (0.054187192118226604, 0),\n",
       " (0.05172413793103448, 19),\n",
       " (0.05172413793103448, 4),\n",
       " (0.04926108374384237, 6),\n",
       " (0.046798029556650245, 20),\n",
       " (0.04433497536945813, 12),\n",
       " (0.04433497536945813, 5)]"
      ]
     },
     "execution_count": 12,
     "metadata": {},
     "output_type": "execute_result"
    }
   ],
   "source": [
    "sorted(((index_of_coincidence(C[0] + decrypt(C[2], chr(65+i))), i) for i in range(26)), reverse=True)"
   ]
  },
  {
   "cell_type": "markdown",
   "metadata": {},
   "source": [
    "First, we try all Caesar-decryptions with the offsets giving the highest indices of coincidence. Unfortunately, this does not seem to work."
   ]
  },
  {
   "cell_type": "code",
   "execution_count": 13,
   "metadata": {},
   "outputs": [
    {
     "data": {
      "text/plain": [
       "['NNDSIEBBLYSZZFZTELYNSFNXFNEJLDNNDBBLYSZZMP',\n",
       " 'MMCRHDAAKXRYYEYSDKXMREMWEMDIKCMMCAAKXRYYLO',\n",
       " 'LLBQGCZZJWQXXDXRCJWLQDLVDLCHJBLLBZZJWQXXKN',\n",
       " 'KKAPFBYYIVPWWCWQBIVKPCKUCKBGIAKKAYYIVPWWJM',\n",
       " 'JJZOEAXXHUOVVBVPAHUJOBJTBJAFHZJJZXXHUOVVIL',\n",
       " 'IIYNDZWWGTNUUAUOZGTINAISAIZEGYIIYWWGTNUUHK',\n",
       " 'HHXMCYVVFSMTTZTNYFSHMZHRZHYDFXHHXVVFSMTTGJ',\n",
       " 'GGWLBXUUERLSSYSMXERGLYGQYGXCEWGGWUUERLSSFI',\n",
       " 'FFVKAWTTDQKRRXRLWDQFKXFPXFWBDVFFVTTDQKRREH',\n",
       " 'EEUJZVSSCPJQQWQKVCPEJWEOWEVACUEEUSSCPJQQDG',\n",
       " 'DDTIYURRBOIPPVPJUBODIVDNVDUZBTDDTRRBOIPPCF',\n",
       " 'CCSHXTQQANHOOUOITANCHUCMUCTYASCCSQQANHOOBE',\n",
       " 'BBRGWSPPZMGNNTNHSZMBGTBLTBSXZRBBRPPZMGNNAD',\n",
       " 'AAQFVROOYLFMMSMGRYLAFSAKSARWYQAAQOOYLFMMZC',\n",
       " 'ZZPEUQNNXKELLRLFQXKZERZJRZQVXPZZPNNXKELLYB',\n",
       " 'YYODTPMMWJDKKQKEPWJYDQYIQYPUWOYYOMMWJDKKXA',\n",
       " 'XXNCSOLLVICJJPJDOVIXCPXHPXOTVNXXNLLVICJJWZ',\n",
       " 'WWMBRNKKUHBIIOICNUHWBOWGOWNSUMWWMKKUHBIIVY',\n",
       " 'VVLAQMJJTGAHHNHBMTGVANVFNVMRTLVVLJJTGAHHUX',\n",
       " 'UUKZPLIISFZGGMGALSFUZMUEMULQSKUUKIISFZGGTW',\n",
       " 'TTJYOKHHREYFFLFZKRETYLTDLTKPRJTTJHHREYFFSV',\n",
       " 'SSIXNJGGQDXEEKEYJQDSXKSCKSJOQISSIGGQDXEERU',\n",
       " 'RRHWMIFFPCWDDJDXIPCRWJRBJRINPHRRHFFPCWDDQT',\n",
       " 'QQGVLHEEOBVCCICWHOBQVIQAIQHMOGQQGEEOBVCCPS',\n",
       " 'PPFUKGDDNAUBBHBVGNAPUHPZHPGLNFPPFDDNAUBBOR',\n",
       " 'OOETJFCCMZTAAGAUFMZOTGOYGOFKMEOOECCMZTAANQ']"
      ]
     },
     "execution_count": 13,
     "metadata": {},
     "output_type": "execute_result"
    }
   ],
   "source": [
    "ccc = ''.join((''.join(t) for t in zip(C[0], decrypt(C[1], chr(65+23)), decrypt(C[2], chr(65+23)))))\n",
    "[decrypt(ccc, chr(65+i)) for i in range(26)]"
   ]
  },
  {
   "cell_type": "markdown",
   "metadata": {},
   "source": [
    "We may also try with some other offsets giving high indices of coincidece. After some attempts, we find a legible string."
   ]
  },
  {
   "cell_type": "code",
   "execution_count": 14,
   "metadata": {},
   "outputs": [
    {
     "data": {
      "text/plain": [
       "['NYXSTYBMFYDTZQTTPFYYMFYRFYYJWXNYXBMFYDTZXJ',\n",
       " 'MXWRSXALEXCSYPSSOEXXLEXQEXXIVWMXWALEXCSYWI',\n",
       " 'LWVQRWZKDWBRXORRNDWWKDWPDWWHUVLWVZKDWBRXVH',\n",
       " 'KVUPQVYJCVAQWNQQMCVVJCVOCVVGTUKVUYJCVAQWUG',\n",
       " 'JUTOPUXIBUZPVMPPLBUUIBUNBUUFSTJUTXIBUZPVTF',\n",
       " 'ITSNOTWHATYOULOOKATTHATMATTERSITSWHATYOUSE',\n",
       " 'HSRMNSVGZSXNTKNNJZSSGZSLZSSDQRHSRVGZSXNTRD',\n",
       " 'GRQLMRUFYRWMSJMMIYRRFYRKYRRCPQGRQUFYRWMSQC',\n",
       " 'FQPKLQTEXQVLRILLHXQQEXQJXQQBOPFQPTEXQVLRPB',\n",
       " 'EPOJKPSDWPUKQHKKGWPPDWPIWPPANOEPOSDWPUKQOA',\n",
       " 'DONIJORCVOTJPGJJFVOOCVOHVOOZMNDONRCVOTJPNZ',\n",
       " 'CNMHINQBUNSIOFIIEUNNBUNGUNNYLMCNMQBUNSIOMY',\n",
       " 'BMLGHMPATMRHNEHHDTMMATMFTMMXKLBMLPATMRHNLX',\n",
       " 'ALKFGLOZSLQGMDGGCSLLZSLESLLWJKALKOZSLQGMKW',\n",
       " 'ZKJEFKNYRKPFLCFFBRKKYRKDRKKVIJZKJNYRKPFLJV',\n",
       " 'YJIDEJMXQJOEKBEEAQJJXQJCQJJUHIYJIMXQJOEKIU',\n",
       " 'XIHCDILWPINDJADDZPIIWPIBPIITGHXIHLWPINDJHT',\n",
       " 'WHGBCHKVOHMCIZCCYOHHVOHAOHHSFGWHGKVOHMCIGS',\n",
       " 'VGFABGJUNGLBHYBBXNGGUNGZNGGREFVGFJUNGLBHFR',\n",
       " 'UFEZAFITMFKAGXAAWMFFTMFYMFFQDEUFEITMFKAGEQ',\n",
       " 'TEDYZEHSLEJZFWZZVLEESLEXLEEPCDTEDHSLEJZFDP',\n",
       " 'SDCXYDGRKDIYEVYYUKDDRKDWKDDOBCSDCGRKDIYECO',\n",
       " 'RCBWXCFQJCHXDUXXTJCCQJCVJCCNABRCBFQJCHXDBN',\n",
       " 'QBAVWBEPIBGWCTWWSIBBPIBUIBBMZAQBAEPIBGWCAM',\n",
       " 'PAZUVADOHAFVBSVVRHAAOHATHAALYZPAZDOHAFVBZL',\n",
       " 'OZYTUZCNGZEUARUUQGZZNGZSGZZKXYOZYCNGZEUAYK']"
      ]
     },
     "execution_count": 14,
     "metadata": {},
     "output_type": "execute_result"
    }
   ],
   "source": [
    "ccc = ''.join((''.join(t) for t in zip(C[0], decrypt(C[1], chr(65+12)), decrypt(C[2], chr(65+3)))))\n",
    "[decrypt(ccc, chr(65+i)) for i in range(26)]"
   ]
  },
  {
   "cell_type": "markdown",
   "metadata": {},
   "source": [
    "Looking at the offsets used, we determine that the key is again `FRI`."
   ]
  },
  {
   "cell_type": "code",
   "execution_count": 15,
   "metadata": {},
   "outputs": [
    {
     "data": {
      "text/plain": [
       "'ITSNOTWHATYOULOOKATTHATMATTERSITSWHATYOUSEE'"
      ]
     },
     "execution_count": 15,
     "metadata": {},
     "output_type": "execute_result"
    }
   ],
   "source": [
    "decrypt(ciphertext, 'FRI')"
   ]
  }
 ],
 "metadata": {
  "kernelspec": {
   "display_name": "Python 3",
   "language": "python",
   "name": "python3"
  },
  "language_info": {
   "codemirror_mode": {
    "name": "ipython",
    "version": 3
   },
   "file_extension": ".py",
   "mimetype": "text/x-python",
   "name": "python",
   "nbconvert_exporter": "python",
   "pygments_lexer": "ipython3",
   "version": "3.8.5"
  }
 },
 "nbformat": 4,
 "nbformat_minor": 4
}
